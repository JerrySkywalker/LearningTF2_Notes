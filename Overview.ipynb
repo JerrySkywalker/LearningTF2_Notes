{
 "nbformat": 4,
 "nbformat_minor": 2,
 "metadata": {
  "language_info": {
   "name": "python",
   "codemirror_mode": {
    "name": "ipython",
    "version": 3
   }
  },
  "orig_nbformat": 2,
  "file_extension": ".py",
  "mimetype": "text/x-python",
  "name": "python",
  "npconvert_exporter": "python",
  "pygments_lexer": "ipython3",
  "version": 3
 },
 "cells": [
  {
   "cell_type": "markdown",
   "execution_count": null,
   "metadata": {},
   "outputs": [],
   "source": [
    "# TesorFlow2.0 学习笔记"
   ]
  },
  {
   "cell_type": "markdown",
   "execution_count": null,
   "metadata": {},
   "outputs": [],
   "source": [
    "这是有关TensorFlow2.0 的学习笔记，主要基于以下资料：\n",
    "\n",
    "-Google官方的机器学习课程(https://developers.google.cn/machine-learning/crash-course)\n",
    "\n",
    "-TensorFlow2.0官方示例及API库(https://www.tensorflow.org/)\n",
    "\n",
    "-《动手学深度学习》的TF2.0版本-Dive-into-DL-TensorFlow2.0(https://github.com/TrickyGo/Dive-into-DL-TensorFlow2.0)\n",
    "\n",
    "-花书\n"
   ]
  },
  {
   "cell_type": "markdown",
   "execution_count": null,
   "metadata": {},
   "outputs": [],
   "source": [
    "## 目录\n",
    "    -Day1 基础配置"
   ]
  }
 ]
}