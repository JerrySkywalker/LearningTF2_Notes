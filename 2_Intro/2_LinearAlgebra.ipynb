{
 "cells": [
  {
   "cell_type": "code",
   "execution_count": 2,
   "metadata": {
    "pycharm": {
     "is_executing": false
    }
   },
   "outputs": [
    {
     "name": "stdout",
     "text": [
      "2.0.0\n"
     ],
     "output_type": "stream"
    }
   ],
   "source": [
    "import tensorflow as tf\n",
    "\n",
    "print(tf.__version__)"
   ]
  },
  {
   "cell_type": "markdown",
   "metadata": {
    "collapsed": true,
    "pycharm": {
     "name": "#%% md\n"
    }
   },
   "source": [
    "# 线性代数\n",
    "\n",
    "本节目标：简单回忆线性代数的相关知识"
   ]
  },
  {
   "cell_type": "markdown",
   "metadata": {},
   "source": [
    "## 矩阵 Matrices\n",
    "A=\\begin{pmatrix}\n",
    " a_{11} & a_{12} & \\cdots & a_{1m} \\\\\n",
    " a_{21} & a_{22} & \\cdots & a_{2m} \\\\\n",
    "\\vdots & \\vdots & \\ddots & \\vdots \\\\\n",
    " a_{n1} & a_{n2} & \\cdots & a_{nm} \\\\\n",
    "\\end{pmatrix}\n",
    "\n",
    "以下展示的是tf里的转置操作"
   ]
  },
  {
   "cell_type": "code",
   "execution_count": 3,
   "metadata": {
    "pycharm": {
     "is_executing": false
    }
   },
   "outputs": [
    {
     "name": "stdout",
     "text": [
      "tf.Tensor(\n",
      "[[0 1 2 3 4]\n",
      " [5 6 7 8 9]], shape=(2, 5), dtype=int32)\n",
      "tf.Tensor(\n",
      "[[0 5]\n",
      " [1 6]\n",
      " [2 7]\n",
      " [3 8]\n",
      " [4 9]], shape=(5, 2), dtype=int32)\n"
     ],
     "output_type": "stream"
    }
   ],
   "source": [
    "A = tf.constant(range(10))\n",
    "A = tf.reshape(A,[2,5])\n",
    "print(A)\n",
    "A = tf.transpose(A)\n",
    "print(A)"
   ]
  },
  {
   "cell_type": "markdown",
   "metadata": {
    "pycharm": {
     "name": "#%% md\n"
    }
   },
   "source": [
    "## 张量 Tensors\n",
    "如果增加轴的数量，我们就获得了一个高维度的“张量”"
   ]
  },
  {
   "cell_type": "code",
   "execution_count": 4,
   "metadata": {
    "pycharm": {
     "is_executing": false
    }
   },
   "outputs": [
    {
     "name": "stdout",
     "text": [
      "tf.Tensor(\n",
      "[[[ 0  1  2  3]\n",
      "  [ 4  5  6  7]\n",
      "  [ 8  9 10 11]]\n",
      "\n",
      " [[12 13 14 15]\n",
      "  [16 17 18 19]\n",
      "  [20 21 22 23]]], shape=(2, 3, 4), dtype=int32)\n"
     ],
     "output_type": "stream"
    }
   ],
   "source": [
    "A = tf.constant(range(24))\n",
    "A = tf.reshape(A,[2,3,4])\n",
    "print(A)"
   ]
  },
  {
   "cell_type": "markdown",
   "metadata": {
    "pycharm": {
     "name": "#%% md\n"
    }
   },
   "source": [
    "对张量里的每一个元素可以进行求和操作。例如，在矩阵中元素的和定义为：\n",
    "\n",
    "$\\sum_{i=1}^{m} \\sum_{j=1}^{n} a_{ij}$.\n",
    "\n",
    "求和用到的是 tf.reduce_sum().除了支持全体元素求和，其还支持按轴求和\n",
    "\n",
    "详见tfReduceSum.ipynb"
   ]
  },
  {
   "cell_type": "code",
   "execution_count": 5,
   "metadata": {
    "pycharm": {
     "is_executing": false
    }
   },
   "outputs": [
    {
     "name": "stdout",
     "text": [
      "tf.Tensor(276, shape=(), dtype=int32)\n",
      "tf.Tensor(\n",
      "[[12 14 16 18]\n",
      " [20 22 24 26]\n",
      " [28 30 32 34]], shape=(3, 4), dtype=int32)\n",
      "tf.Tensor(\n",
      "[[12 15 18 21]\n",
      " [48 51 54 57]], shape=(2, 4), dtype=int32)\n",
      "tf.Tensor([60 66 72 78], shape=(4,), dtype=int32)\n"
     ],
     "output_type": "stream"
    }
   ],
   "source": [
    "print(tf.reduce_sum(A))\n",
    "print(tf.reduce_sum(A,0))\n",
    "print(tf.reduce_sum(A,1))\n",
    "print(tf.reduce_sum(A,[0,1]))"
   ]
  },
  {
   "cell_type": "markdown",
   "metadata": {},
   "source": [
    "对张量里的所有数求平均值tf.reduce_mean(A)，用法和reduce_sum 类似\n",
    "\n",
    "$$\\mathrm{mean}(\\mathbf{u}) = \\frac{1}{d} \\sum_{i=1}^{d} u_i \\text{ and }\n",
    "\\mathrm{mean}(A) = \\frac{1}{n \\cdot m} \\sum_{i=1}^{m} \\sum_{j=1}^{n} a_{ij}"
   ]
  },
  {
   "cell_type": "code",
   "execution_count": 6,
   "metadata": {
    "pycharm": {
     "is_executing": false,
     "name": "#%%\n"
    }
   },
   "outputs": [
    {
     "name": "stdout",
     "text": [
      "tf.Tensor(11, shape=(), dtype=int32)\n"
     ],
     "output_type": "stream"
    }
   ],
   "source": [
    "print(tf.reduce_mean(A))\n",
    "\n",
    "\n"
   ]
  }
 ],
 "metadata": {
  "kernelspec": {
   "display_name": "Python 3.6.10 64-bit ('env_gpu': conda)",
   "language": "python",
   "name": "python361064bitenvgpuconda37aa1c40388546da8d8fab64bfb48375"
  },
  "language_info": {
   "codemirror_mode": {
    "name": "ipython",
    "version": 3
   },
   "file_extension": ".py",
   "mimetype": "text/x-python",
   "name": "python",
   "nbconvert_exporter": "python",
   "pygments_lexer": "ipython3",
   "version": "3.6.10"
  },
  "pycharm": {
   "stem_cell": {
    "cell_type": "raw",
    "source": [],
    "metadata": {
     "collapsed": false
    }
   }
  }
 },
 "nbformat": 4,
 "nbformat_minor": 1
}