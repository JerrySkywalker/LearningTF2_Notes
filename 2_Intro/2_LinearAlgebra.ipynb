{
 "cells": [
  {
   "cell_type": "code",
   "execution_count": 31,
   "outputs": [
    {
     "name": "stdout",
     "text": [
      "2.0.0\n"
     ],
     "output_type": "stream"
    }
   ],
   "source": [
    "import tensorflow as tf\n",
    "\n",
    "print(tf.__version__)"
   ],
   "metadata": {
    "collapsed": false,
    "pycharm": {
     "name": "#%%\n",
     "is_executing": false
    }
   }
  },
  {
   "cell_type": "markdown",
   "metadata": {
    "collapsed": true,
    "pycharm": {
     "name": "#%% md\n"
    }
   },
   "source": [
    "# 线性代数\n",
    "\n",
    "本节目标：简单回忆线性代数的相关知识"
   ]
  },
  {
   "cell_type": "markdown",
   "source": [
    "## 矩阵 Matrices\n",
    "A=\\begin{pmatrix}\n",
    " a_{11} & a_{12} & \\cdots & a_{1m} \\\\\n",
    " a_{21} & a_{22} & \\cdots & a_{2m} \\\\\n",
    "\\vdots & \\vdots & \\ddots & \\vdots \\\\\n",
    " a_{n1} & a_{n2} & \\cdots & a_{nm} \\\\\n",
    "\\end{pmatrix}\n",
    "\n",
    "以下展示的是tf里的转置操作"
   ],
   "metadata": {
    "collapsed": false
   }
  },
  {
   "cell_type": "code",
   "execution_count": 32,
   "outputs": [
    {
     "name": "stdout",
     "text": [
      "tf.Tensor(\n[[0 1 2 3 4]\n [5 6 7 8 9]], shape=(2, 5), dtype=int32)\ntf.Tensor(\n[[0 5]\n [1 6]\n [2 7]\n [3 8]\n [4 9]], shape=(5, 2), dtype=int32)\n"
     ],
     "output_type": "stream"
    }
   ],
   "source": [
    "A = tf.constant(range(10))\n",
    "A = tf.reshape(A,[2,5])\n",
    "print(A)\n",
    "A = tf.transpose(A)\n",
    "print(A)"
   ],
   "metadata": {
    "collapsed": false,
    "pycharm": {
     "name": "#%% \n",
     "is_executing": false
    }
   }
  },
  {
   "cell_type": "markdown",
   "source": [
    "## 张量 Tensors\n",
    "如果增加轴的数量，我们就获得了一个高维度的“张量”"
   ],
   "metadata": {
    "collapsed": false,
    "pycharm": {
     "name": "#%% md\n"
    }
   }
  },
  {
   "cell_type": "code",
   "execution_count": 33,
   "outputs": [
    {
     "name": "stdout",
     "text": [
      "tf.Tensor(\n[[[ 0  1  2  3]\n  [ 4  5  6  7]\n  [ 8  9 10 11]]\n\n [[12 13 14 15]\n  [16 17 18 19]\n  [20 21 22 23]]], shape=(2, 3, 4), dtype=int32)\n"
     ],
     "output_type": "stream"
    }
   ],
   "source": [
    "A = tf.constant(range(24))\n",
    "A = tf.reshape(A,[2,3,4])\n",
    "print(A)"
   ],
   "metadata": {
    "collapsed": false,
    "pycharm": {
     "name": "#%%\n",
     "is_executing": false
    }
   }
  },
  {
   "cell_type": "markdown",
   "source": [
    "求和用到的是 tf.reduce_sum(),简单来说是按维度求和 \n",
    "详见"
   ],
   "metadata": {
    "collapsed": false,
    "pycharm": {
     "name": "#%% md\n"
    }
   }
  },
  {
   "cell_type": "code",
   "execution_count": 34,
   "outputs": [
    {
     "name": "stdout",
     "text": [
      "tf.Tensor(\n[[12 14 16 18]\n [20 22 24 26]\n [28 30 32 34]], shape=(3, 4), dtype=int32)\ntf.Tensor(\n[[12 15 18 21]\n [48 51 54 57]], shape=(2, 4), dtype=int32)\n"
     ],
     "output_type": "stream"
    }
   ],
   "source": [
    "print(tf.reduce_sum(A,0))\n",
    "print(tf.reduce_sum(A,1))"
   ],
   "metadata": {
    "collapsed": false,
    "pycharm": {
     "name": "#%% \n",
     "is_executing": false
    }
   }
  }
 ],
 "metadata": {
  "language_info": {
   "codemirror_mode": {
    "name": "ipython",
    "version": 2
   },
   "file_extension": ".py",
   "mimetype": "text/x-python",
   "name": "python",
   "nbconvert_exporter": "python",
   "pygments_lexer": "ipython2",
   "version": "2.7.6"
  },
  "kernelspec": {
   "name": "python3",
   "language": "python",
   "display_name": "Python 3"
  },
  "pycharm": {
   "stem_cell": {
    "cell_type": "raw",
    "source": [],
    "metadata": {
     "collapsed": false
    }
   }
  }
 },
 "nbformat": 4,
 "nbformat_minor": 0
}