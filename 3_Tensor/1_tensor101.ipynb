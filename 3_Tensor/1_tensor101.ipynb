{
 "cells": [
  {
   "cell_type": "code",
   "execution_count": 154,
   "outputs": [
    {
     "name": "stdout",
     "text": [
      "2.0.0\n"
     ],
     "output_type": "stream"
    }
   ],
   "source": [
    "import tensorflow as tf\n",
    "\n",
    "print(tf.__version__)"
   ],
   "metadata": {
    "collapsed": false,
    "pycharm": {
     "name": "#%%\n",
     "is_executing": false
    }
   }
  },
  {
   "cell_type": "markdown",
   "source": [
    "# 张量的基础操作\n",
    "\n",
    "本节目标：了解张量的\n",
    "- 创建\n",
    "    - 从常量创建\n",
    "    - 从numpy转换\n",
    "    - 创建元素为指定值的tensor\n",
    "    - 随机初始化\n",
    "- 索引\n",
    "    - 基础索引\n",
    "    - 冒号切片索引\n",
    "    - 维度选择：gather()和gather_nd()\n",
    "    - 条件索引：真值判断 结合 where()\n",
    "- 转换\n",
    "    - 变形 reshape()\n",
    "    - 转置 transpose()\n",
    "    - 增加维度 expand_dims()\n",
    "    - 删除维度 squeeze()"
   ],
   "metadata": {
    "collapsed": false
   }
  },
  {
   "cell_type": "markdown",
   "source": [
    "# 1 创建"
   ],
   "metadata": {
    "collapsed": false
   }
  },
  {
   "cell_type": "markdown",
   "source": [
    "# 1.1 constant()方法"
   ],
   "metadata": {
    "collapsed": false
   }
  },
  {
   "cell_type": "code",
   "execution_count": 155,
   "outputs": [
    {
     "data": {
      "text/plain": "<tf.Tensor: id=403, shape=(), dtype=int32, numpy=1>"
     },
     "metadata": {},
     "output_type": "execute_result",
     "execution_count": 155
    }
   ],
   "source": [
    "tf.constant(1)  # 创建一个整型张量"
   ],
   "metadata": {
    "collapsed": false,
    "pycharm": {
     "name": "#%%\n",
     "is_executing": false
    }
   }
  },
  {
   "cell_type": "code",
   "execution_count": 156,
   "outputs": [
    {
     "data": {
      "text/plain": "<tf.Tensor: id=404, shape=(), dtype=float32, numpy=1.0>"
     },
     "metadata": {},
     "output_type": "execute_result",
     "execution_count": 156
    }
   ],
   "source": [
    "tf.constant(1.)  # 创建一个浮点型张量"
   ],
   "metadata": {
    "collapsed": false,
    "pycharm": {
     "name": "#%%\n",
     "is_executing": false
    }
   }
  },
  {
   "cell_type": "code",
   "execution_count": 157,
   "outputs": [
    {
     "data": {
      "text/plain": "<tf.Tensor: id=405, shape=(), dtype=float64, numpy=2.0>"
     },
     "metadata": {},
     "output_type": "execute_result",
     "execution_count": 157
    }
   ],
   "source": [
    "tf.constant(2., dtype=tf.double)  # 创建的同时指定数据类型"
   ],
   "metadata": {
    "collapsed": false,
    "pycharm": {
     "name": "#%%\n",
     "is_executing": false
    }
   }
  },
  {
   "cell_type": "code",
   "execution_count": 158,
   "outputs": [
    {
     "data": {
      "text/plain": "<tf.Tensor: id=406, shape=(2, 3), dtype=float32, numpy=\narray([[1., 2., 3.],\n       [4., 5., 6.]], dtype=float32)>"
     },
     "metadata": {},
     "output_type": "execute_result",
     "execution_count": 158
    }
   ],
   "source": [
    "tf.constant([[1.,2.,3.],[4.,5.,6.]])  # 通过传入一个list参数创建"
   ],
   "metadata": {
    "collapsed": false,
    "pycharm": {
     "name": "#%%\n",
     "is_executing": false
    }
   }
  },
  {
   "cell_type": "markdown",
   "source": [
    "如果输入的数据与指定的数据类型不相符，会产生以下异常：  \n",
    "TypeError: Cannot convert provided value to EagerTensor. Provided value: 2.1 Requested dtype: int32"
   ],
   "metadata": {
    "collapsed": false
   }
  },
  {
   "cell_type": "markdown",
   "source": [
    "# 1.2 convert_to_tensor()方法"
   ],
   "metadata": {
    "collapsed": false
   }
  },
  {
   "cell_type": "code",
   "execution_count": 159,
   "outputs": [],
   "source": [
    "import numpy as np"
   ],
   "metadata": {
    "collapsed": false,
    "pycharm": {
     "name": "#%%\n",
     "is_executing": false
    }
   }
  },
  {
   "cell_type": "code",
   "execution_count": 160,
   "outputs": [
    {
     "data": {
      "text/plain": "<tf.Tensor: id=407, shape=(2, 3), dtype=float64, numpy=\narray([[1., 1., 1.],\n       [1., 1., 1.]])>"
     },
     "metadata": {},
     "output_type": "execute_result",
     "execution_count": 160
    }
   ],
   "source": [
    "tf.convert_to_tensor(np.ones([2, 3]))"
   ],
   "metadata": {
    "collapsed": false,
    "pycharm": {
     "name": "#%%\n",
     "is_executing": false
    }
   }
  },
  {
   "cell_type": "code",
   "execution_count": 161,
   "outputs": [
    {
     "data": {
      "text/plain": "<tf.Tensor: id=408, shape=(2, 3), dtype=float64, numpy=\narray([[1., 1., 1.],\n       [1., 1., 1.]])>"
     },
     "metadata": {},
     "output_type": "execute_result",
     "execution_count": 161
    }
   ],
   "source": [
    "tf.convert_to_tensor(np.ones([2, 3]))"
   ],
   "metadata": {
    "collapsed": false,
    "pycharm": {
     "name": "#%%\n",
     "is_executing": false
    }
   }
  },
  {
   "cell_type": "code",
   "execution_count": 162,
   "outputs": [
    {
     "data": {
      "text/plain": "<tf.Tensor: id=409, shape=(2, 2), dtype=float32, numpy=\narray([[2., 3.],\n       [3., 4.]], dtype=float32)>"
     },
     "metadata": {},
     "output_type": "execute_result",
     "execution_count": 162
    }
   ],
   "source": [
    "tf.convert_to_tensor([[2.,3.],[3., 4.]])"
   ],
   "metadata": {
    "collapsed": false,
    "pycharm": {
     "name": "#%%\n",
     "is_executing": false
    }
   }
  },
  {
   "cell_type": "markdown",
   "source": [
    "# 1.3 创建元素为指定值的tensor"
   ],
   "metadata": {
    "collapsed": false
   }
  },
  {
   "cell_type": "markdown",
   "source": [
    "**（1）zeros()与ones()**"
   ],
   "metadata": {
    "collapsed": false
   }
  },
  {
   "cell_type": "code",
   "execution_count": 163,
   "outputs": [
    {
     "name": "stdout",
     "text": [
      "tf.Tensor(\n",
      "[[[0. 0. 0.]\n",
      "  [0. 0. 0.]\n",
      "  [0. 0. 0.]]\n",
      "\n",
      " [[0. 0. 0.]\n",
      "  [0. 0. 0.]\n",
      "  [0. 0. 0.]]], shape=(2, 3, 3), dtype=float32)\n"
     ],
     "output_type": "stream"
    }
   ],
   "source": [
    "a = tf.zeros([2, 3, 3])  # 创建一个元素全为0，形状为[2, 3, 3]的tensor\n",
    "print(a)"
   ],
   "metadata": {
    "collapsed": false,
    "pycharm": {
     "name": "#%%\n",
     "is_executing": false
    }
   }
  },
  {
   "cell_type": "code",
   "execution_count": 164,
   "outputs": [
    {
     "name": "stdout",
     "text": [
      "tf.Tensor(\n",
      "[[1. 1. 1.]\n",
      " [1. 1. 1.]], shape=(2, 3), dtype=float32)\n"
     ],
     "output_type": "stream"
    }
   ],
   "source": [
    "b = tf.ones([2, 3])  #  创建一个元素全为1，形状为[2, 3]的tensor\n",
    "print(b)"
   ],
   "metadata": {
    "collapsed": false,
    "pycharm": {
     "name": "#%%\n",
     "is_executing": false
    }
   }
  },
  {
   "cell_type": "markdown",
   "source": [
    "**（2）zeros_like()与ones_like**"
   ],
   "metadata": {
    "collapsed": false
   }
  },
  {
   "cell_type": "code",
   "execution_count": 165,
   "outputs": [
    {
     "data": {
      "text/plain": "<tf.Tensor: id=416, shape=(2, 3), dtype=float32, numpy=\narray([[0., 0., 0.],\n       [0., 0., 0.]], dtype=float32)>"
     },
     "metadata": {},
     "output_type": "execute_result",
     "execution_count": 165
    }
   ],
   "source": [
    "tf.zeros_like(b)  # 仿照b的shape创建一个全为0的tensor"
   ],
   "metadata": {
    "collapsed": false,
    "pycharm": {
     "name": "#%%\n",
     "is_executing": false
    }
   }
  },
  {
   "cell_type": "code",
   "execution_count": 166,
   "outputs": [
    {
     "data": {
      "text/plain": "<tf.Tensor: id=419, shape=(2, 3, 3), dtype=float32, numpy=\narray([[[1., 1., 1.],\n        [1., 1., 1.],\n        [1., 1., 1.]],\n\n       [[1., 1., 1.],\n        [1., 1., 1.],\n        [1., 1., 1.]]], dtype=float32)>"
     },
     "metadata": {},
     "output_type": "execute_result",
     "execution_count": 166
    }
   ],
   "source": [
    "tf.ones_like(a)  # 仿照b的shape创建一个全为1的tensor"
   ],
   "metadata": {
    "collapsed": false,
    "pycharm": {
     "name": "#%%\n",
     "is_executing": false
    }
   }
  },
  {
   "cell_type": "markdown",
   "source": [
    "**（3）fill()**"
   ],
   "metadata": {
    "collapsed": false
   }
  },
  {
   "cell_type": "code",
   "execution_count": 167,
   "outputs": [
    {
     "data": {
      "text/plain": "<tf.Tensor: id=422, shape=(2, 3), dtype=int32, numpy=\narray([[5, 5, 5],\n       [5, 5, 5]])>"
     },
     "metadata": {},
     "output_type": "execute_result",
     "execution_count": 167
    }
   ],
   "source": [
    "tf.fill([2,3],5)  # 创建元素全为5，形状为[2,3]的tensor"
   ],
   "metadata": {
    "collapsed": false,
    "pycharm": {
     "name": "#%%\n",
     "is_executing": false
    }
   }
  },
  {
   "cell_type": "markdown",
   "source": [
    "# 1.4 随机初始化"
   ],
   "metadata": {
    "collapsed": false
   }
  },
  {
   "cell_type": "markdown",
   "source": [
    "在实际应用中，经常需要随机初始化元素服从某种分布的tensor，TensorFlow中也提供了这种功能。  \n",
    "\n",
    "**（1）从指定正态分布中随机取值：tf.random.normal()。**例如，随机初始化一个元素服从均值为1，方差为1的正态分布且形状为[2, 3]的tensor："
   ],
   "metadata": {
    "collapsed": false
   }
  },
  {
   "cell_type": "code",
   "execution_count": 168,
   "outputs": [
    {
     "data": {
      "text/plain": "<tf.Tensor: id=428, shape=(2, 3), dtype=float32, numpy=\narray([[1.6656713, 1.9298074, 1.718288 ],\n       [1.2457561, 1.0986533, 2.43606  ]], dtype=float32)>"
     },
     "metadata": {},
     "output_type": "execute_result",
     "execution_count": 168
    }
   ],
   "source": [
    "tf.random.normal([2, 3], mean=1, stddev=1) "
   ],
   "metadata": {
    "collapsed": false,
    "pycharm": {
     "name": "#%%\n",
     "is_executing": false
    }
   }
  },
  {
   "cell_type": "markdown",
   "source": [
    "**（2）从指定的截断正态分布中随机取值：truncated_normal()。**意思是从指定的正太分布中取值，但是取值范围在两个标准差范围内，也就是：[ mean - 2 * stddev, mean + 2 * stddev ]"
   ],
   "metadata": {
    "collapsed": false
   }
  },
  {
   "cell_type": "code",
   "execution_count": 169,
   "outputs": [
    {
     "data": {
      "text/plain": "<tf.Tensor: id=434, shape=(2, 3), dtype=float32, numpy=\narray([[1.4711734, 2.512186 , 1.6642773],\n       [1.7682488, 1.6989379, 1.1191772]], dtype=float32)>"
     },
     "metadata": {},
     "output_type": "execute_result",
     "execution_count": 169
    }
   ],
   "source": [
    "tf.random.truncated_normal([2, 3], mean=1, stddev=1)"
   ],
   "metadata": {
    "collapsed": false,
    "pycharm": {
     "name": "#%%\n",
     "is_executing": false
    }
   }
  },
  {
   "cell_type": "markdown",
   "source": [
    "**（3）从指定均匀分布中随机取值：tf.random.uniform()。**"
   ],
   "metadata": {
    "collapsed": false
   }
  },
  {
   "cell_type": "code",
   "execution_count": 170,
   "outputs": [
    {
     "data": {
      "text/plain": "<tf.Tensor: id=441, shape=(2, 3), dtype=float32, numpy=\narray([[1.8535746, 1.5019029, 1.0787992],\n       [1.2431394, 1.5803543, 1.1491113]], dtype=float32)>"
     },
     "metadata": {},
     "output_type": "execute_result",
     "execution_count": 170
    }
   ],
   "source": [
    "tf.random.uniform([2, 3], minval=1, maxval=2) # 在1~2之间均匀分布"
   ],
   "metadata": {
    "collapsed": false,
    "pycharm": {
     "name": "#%%\n",
     "is_executing": false
    }
   }
  },
  {
   "cell_type": "markdown",
   "source": [
    "# 2 索引"
   ],
   "metadata": {
    "collapsed": false
   }
  },
  {
   "cell_type": "code",
   "execution_count": 171,
   "outputs": [],
   "source": [
    "a = tf.convert_to_tensor(np.arange(80).reshape(2,2,4,5))"
   ],
   "metadata": {
    "collapsed": false,
    "pycharm": {
     "name": "#%%\n",
     "is_executing": false
    }
   }
  },
  {
   "cell_type": "code",
   "execution_count": 172,
   "outputs": [
    {
     "data": {
      "text/plain": "<tf.Tensor: id=442, shape=(2, 2, 4, 5), dtype=int32, numpy=\narray([[[[ 0,  1,  2,  3,  4],\n         [ 5,  6,  7,  8,  9],\n         [10, 11, 12, 13, 14],\n         [15, 16, 17, 18, 19]],\n\n        [[20, 21, 22, 23, 24],\n         [25, 26, 27, 28, 29],\n         [30, 31, 32, 33, 34],\n         [35, 36, 37, 38, 39]]],\n\n\n       [[[40, 41, 42, 43, 44],\n         [45, 46, 47, 48, 49],\n         [50, 51, 52, 53, 54],\n         [55, 56, 57, 58, 59]],\n\n        [[60, 61, 62, 63, 64],\n         [65, 66, 67, 68, 69],\n         [70, 71, 72, 73, 74],\n         [75, 76, 77, 78, 79]]]])>"
     },
     "metadata": {},
     "output_type": "execute_result",
     "execution_count": 172
    }
   ],
   "source": [
    "a"
   ],
   "metadata": {
    "collapsed": false,
    "pycharm": {
     "name": "#%%\n",
     "is_executing": false
    }
   }
  },
  {
   "cell_type": "markdown",
   "source": [
    "# 2.1 基础索引"
   ],
   "metadata": {
    "collapsed": false
   }
  },
  {
   "cell_type": "markdown",
   "source": [
    "TensorFlow支持Python原生的基础索引方式，即多个方括号逐步索引取值：[idx][idx][idx]，每个方括号对应一个维度。"
   ],
   "metadata": {
    "collapsed": false
   }
  },
  {
   "cell_type": "code",
   "execution_count": 173,
   "outputs": [
    {
     "data": {
      "text/plain": "<tf.Tensor: id=446, shape=(2, 4, 5), dtype=int32, numpy=\narray([[[ 0,  1,  2,  3,  4],\n        [ 5,  6,  7,  8,  9],\n        [10, 11, 12, 13, 14],\n        [15, 16, 17, 18, 19]],\n\n       [[20, 21, 22, 23, 24],\n        [25, 26, 27, 28, 29],\n        [30, 31, 32, 33, 34],\n        [35, 36, 37, 38, 39]]])>"
     },
     "metadata": {},
     "output_type": "execute_result",
     "execution_count": 173
    }
   ],
   "source": [
    "a[0]  # 取第一个维度"
   ],
   "metadata": {
    "collapsed": false,
    "pycharm": {
     "name": "#%%\n",
     "is_executing": false
    }
   }
  },
  {
   "cell_type": "code",
   "execution_count": 174,
   "outputs": [
    {
     "data": {
      "text/plain": "<tf.Tensor: id=454, shape=(4, 5), dtype=int32, numpy=\narray([[20, 21, 22, 23, 24],\n       [25, 26, 27, 28, 29],\n       [30, 31, 32, 33, 34],\n       [35, 36, 37, 38, 39]])>"
     },
     "metadata": {},
     "output_type": "execute_result",
     "execution_count": 174
    }
   ],
   "source": [
    "a[0][1]  # 同时筛选两个维度"
   ],
   "metadata": {
    "collapsed": false,
    "pycharm": {
     "name": "#%%\n",
     "is_executing": false
    }
   }
  },
  {
   "cell_type": "code",
   "execution_count": 175,
   "outputs": [
    {
     "data": {
      "text/plain": "<tf.Tensor: id=466, shape=(5,), dtype=int32, numpy=array([75, 76, 77, 78, 79])>"
     },
     "metadata": {},
     "output_type": "execute_result",
     "execution_count": 175
    }
   ],
   "source": [
    "a[1][1][3]  # 同时对3个维度进行筛选"
   ],
   "metadata": {
    "collapsed": false,
    "pycharm": {
     "name": "#%%\n",
     "is_executing": false
    }
   }
  },
  {
   "cell_type": "markdown",
   "source": [
    "这种索引数据的方法简单，易于理解，但是可读性差，只能按维度依次索引数据，也不能索引列。"
   ],
   "metadata": {
    "collapsed": false
   }
  },
  {
   "cell_type": "markdown",
   "source": [
    "# 2.2 numpy索引"
   ],
   "metadata": {
    "collapsed": false
   }
  },
  {
   "cell_type": "markdown",
   "source": [
    "TensorFlow也继承了numpy中的部分索引方式，这种索引方式是在一个方括号内写下所有的索引，每个索引序号之间用逗号隔开。"
   ],
   "metadata": {
    "collapsed": false
   }
  },
  {
   "cell_type": "code",
   "execution_count": 176,
   "outputs": [
    {
     "data": {
      "text/plain": "<tf.Tensor: id=470, shape=(2, 4, 5), dtype=int32, numpy=\narray([[[40, 41, 42, 43, 44],\n        [45, 46, 47, 48, 49],\n        [50, 51, 52, 53, 54],\n        [55, 56, 57, 58, 59]],\n\n       [[60, 61, 62, 63, 64],\n        [65, 66, 67, 68, 69],\n        [70, 71, 72, 73, 74],\n        [75, 76, 77, 78, 79]]])>"
     },
     "metadata": {},
     "output_type": "execute_result",
     "execution_count": 176
    }
   ],
   "source": [
    "a[1]  # 筛选第一维度，这跟基础索引一样"
   ],
   "metadata": {
    "collapsed": false,
    "pycharm": {
     "name": "#%%\n",
     "is_executing": false
    }
   }
  },
  {
   "cell_type": "code",
   "execution_count": 177,
   "outputs": [
    {
     "data": {
      "text/plain": "<tf.Tensor: id=474, shape=(5,), dtype=int32, numpy=array([75, 76, 77, 78, 79])>"
     },
     "metadata": {},
     "output_type": "execute_result",
     "execution_count": 177
    }
   ],
   "source": [
    "a[1,1, 3]  # 同时筛选3个维度"
   ],
   "metadata": {
    "collapsed": false,
    "pycharm": {
     "name": "#%%\n",
     "is_executing": false
    }
   }
  },
  {
   "cell_type": "markdown",
   "source": [
    "**（2）冒号切片与步长：[start:end:step]**"
   ],
   "metadata": {
    "collapsed": false
   }
  },
  {
   "cell_type": "markdown",
   "source": [
    "这种索引方式在Python原生的list类型中也是常见的，而且使用方法也是一样的。"
   ],
   "metadata": {
    "collapsed": false
   }
  },
  {
   "cell_type": "code",
   "execution_count": 178,
   "outputs": [
    {
     "data": {
      "text/plain": "<tf.Tensor: id=478, shape=(2, 2, 5), dtype=int32, numpy=\narray([[[40, 41, 42, 43, 44],\n        [45, 46, 47, 48, 49]],\n\n       [[60, 61, 62, 63, 64],\n        [65, 66, 67, 68, 69]]])>"
     },
     "metadata": {},
     "output_type": "execute_result",
     "execution_count": 178
    }
   ],
   "source": [
    "a[1,:,0:2] # 对第1维度选第二块数据，对第二维度选所有数据，对第三维度选前两行"
   ],
   "metadata": {
    "collapsed": false,
    "pycharm": {
     "name": "#%%\n",
     "is_executing": false
    }
   }
  },
  {
   "cell_type": "code",
   "execution_count": 179,
   "outputs": [
    {
     "data": {
      "text/plain": "<tf.Tensor: id=482, shape=(2, 2, 4), dtype=int32, numpy=\narray([[[40, 41, 42, 43],\n        [45, 46, 47, 48]],\n\n       [[60, 61, 62, 63],\n        [65, 66, 67, 68]]])>"
     },
     "metadata": {},
     "output_type": "execute_result",
     "execution_count": 179
    }
   ],
   "source": [
    "a[1,:,0:2,0:4] # 继续上面的例子，对第4维度筛选去前4列"
   ],
   "metadata": {
    "collapsed": false,
    "pycharm": {
     "name": "#%%\n",
     "is_executing": false
    }
   }
  },
  {
   "cell_type": "code",
   "execution_count": 180,
   "outputs": [
    {
     "data": {
      "text/plain": "<tf.Tensor: id=486, shape=(2, 2, 2), dtype=int32, numpy=\narray([[[40, 42],\n        [45, 47]],\n\n       [[60, 62],\n        [65, 67]]])>"
     },
     "metadata": {},
     "output_type": "execute_result",
     "execution_count": 180
    }
   ],
   "source": [
    "a[1,:,0:2,0:4:2] # 对第4维度加上步长，每隔一个数据取一次"
   ],
   "metadata": {
    "collapsed": false,
    "pycharm": {
     "name": "#%%\n",
     "is_executing": false
    }
   }
  },
  {
   "cell_type": "markdown",
   "source": [
    "也可以使用负值步长表示逆序索引，但要注意，负数步长时，原本的[start : end : step]也要跟着编程[end : start : step]："
   ],
   "metadata": {
    "collapsed": false
   }
  },
  {
   "cell_type": "code",
   "execution_count": 181,
   "outputs": [
    {
     "data": {
      "text/plain": "<tf.Tensor: id=490, shape=(2, 2, 4), dtype=int32, numpy=\narray([[[44, 43, 42, 41],\n        [49, 48, 47, 46]],\n\n       [[64, 63, 62, 61],\n        [69, 68, 67, 66]]])>"
     },
     "metadata": {},
     "output_type": "execute_result",
     "execution_count": 181
    }
   ],
   "source": [
    "a[1,:,0:2,4:0:-1]"
   ],
   "metadata": {
    "collapsed": false,
    "pycharm": {
     "name": "#%%\n",
     "is_executing": false
    }
   }
  },
  {
   "cell_type": "code",
   "execution_count": 182,
   "outputs": [
    {
     "data": {
      "text/plain": "<tf.Tensor: id=494, shape=(2, 2, 2), dtype=int32, numpy=\narray([[[44, 42],\n        [49, 47]],\n\n       [[64, 62],\n        [69, 67]]])>"
     },
     "metadata": {},
     "output_type": "execute_result",
     "execution_count": 182
    }
   ],
   "source": [
    "a[1,:,0:2,4:0:-2]"
   ],
   "metadata": {
    "collapsed": false,
    "pycharm": {
     "name": "#%%\n",
     "is_executing": false
    }
   }
  },
  {
   "cell_type": "markdown",
   "source": [
    "在numpy和TensorFlow中还有“...\"（三个英文句号）的使用，“...\"用于表示连续多个维度全选："
   ],
   "metadata": {
    "collapsed": false
   }
  },
  {
   "cell_type": "code",
   "execution_count": 183,
   "outputs": [
    {
     "data": {
      "text/plain": "<tf.Tensor: id=498, shape=(2, 4, 4), dtype=int32, numpy=\narray([[[40, 41, 42, 43],\n        [45, 46, 47, 48],\n        [50, 51, 52, 53],\n        [55, 56, 57, 58]],\n\n       [[60, 61, 62, 63],\n        [65, 66, 67, 68],\n        [70, 71, 72, 73],\n        [75, 76, 77, 78]]])>"
     },
     "metadata": {},
     "output_type": "execute_result",
     "execution_count": 183
    }
   ],
   "source": [
    "a[1,...,0:4] # 等同于a[1, : , : ,0:4]"
   ],
   "metadata": {
    "collapsed": false,
    "pycharm": {
     "name": "#%%\n",
     "is_executing": false
    }
   }
  },
  {
   "cell_type": "code",
   "execution_count": 184,
   "outputs": [
    {
     "data": {
      "text/plain": "<tf.Tensor: id=502, shape=(4, 5), dtype=int32, numpy=\narray([[ 0,  1,  2,  3,  4],\n       [ 5,  6,  7,  8,  9],\n       [10, 11, 12, 13, 14],\n       [15, 16, 17, 18, 19]])>"
     },
     "metadata": {},
     "output_type": "execute_result",
     "execution_count": 184
    }
   ],
   "source": [
    "a[0,0,...] # 等同于a[0,0,:,:]"
   ],
   "metadata": {
    "collapsed": false,
    "pycharm": {
     "name": "#%%\n",
     "is_executing": false
    }
   }
  },
  {
   "cell_type": "markdown",
   "source": [
    "# 2.3 gather与gather_nd"
   ],
   "metadata": {
    "collapsed": false
   }
  },
  {
   "cell_type": "markdown",
   "source": [
    "gather与gather_nd是指TensorFlow通过gather()方法和gather_nd()方法提供的两种索引方式。在numpy中，可以通过嵌套list的方式来指定无规则的索引："
   ],
   "metadata": {
    "collapsed": false
   }
  },
  {
   "cell_type": "code",
   "execution_count": 185,
   "outputs": [],
   "source": [
    "b = np.arange(20).reshape(4,5)"
   ],
   "metadata": {
    "collapsed": false,
    "pycharm": {
     "name": "#%%\n",
     "is_executing": false
    }
   }
  },
  {
   "cell_type": "code",
   "execution_count": 186,
   "outputs": [
    {
     "data": {
      "text/plain": "array([5, 8, 9])"
     },
     "metadata": {},
     "output_type": "execute_result",
     "execution_count": 186
    }
   ],
   "source": [
    "b[1, [0,3,4]] # 选取第2行的第1列、第4列、第5列"
   ],
   "metadata": {
    "collapsed": false,
    "pycharm": {
     "name": "#%%\n",
     "is_executing": false
    }
   }
  },
  {
   "cell_type": "markdown",
   "source": [
    "但是在TensorFlow中，这种索引方式并没有从numpy中继承下来,所以如果在Tensor中使用这种方式，会抛出以下异常：  \n",
    "TypeError: Only integers, slices (`:`), ellipsis (`...`), tf.newaxis (`None`) and scalar tf.int32/tf.int64 tensors are valid indices, got [0, 3, 4]"
   ],
   "metadata": {
    "collapsed": false
   }
  },
  {
   "cell_type": "markdown",
   "source": [
    "还好的是，在TensorFlow中通过gather()方法和gather_nd()方法提供了这种索引方法。"
   ],
   "metadata": {
    "collapsed": false
   }
  },
  {
   "cell_type": "markdown",
   "source": [
    "**（1）gather()方法**"
   ],
   "metadata": {
    "collapsed": false
   }
  },
  {
   "cell_type": "code",
   "execution_count": 187,
   "outputs": [
    {
     "data": {
      "text/plain": "<tf.Tensor: id=506, shape=(3, 5), dtype=int32, numpy=\narray([[ 0,  1,  2,  3,  4],\n       [10, 11, 12, 13, 14],\n       [15, 16, 17, 18, 19]])>"
     },
     "metadata": {},
     "output_type": "execute_result",
     "execution_count": 187
    }
   ],
   "source": [
    "tf.gather(b, axis=0, indices=[0, 2, 3]) # 选取第1行，第3行，第4行"
   ],
   "metadata": {
    "collapsed": false,
    "pycharm": {
     "name": "#%%\n",
     "is_executing": false
    }
   }
  },
  {
   "cell_type": "code",
   "execution_count": 188,
   "outputs": [
    {
     "data": {
      "text/plain": "<tf.Tensor: id=510, shape=(4, 3), dtype=int32, numpy=\narray([[ 0,  2,  3],\n       [ 5,  7,  8],\n       [10, 12, 13],\n       [15, 17, 18]])>"
     },
     "metadata": {},
     "output_type": "execute_result",
     "execution_count": 188
    }
   ],
   "source": [
    "tf.gather(b, axis=1, indices=[0, 2, 3]) # 选取第1列，第3列，第4列"
   ],
   "metadata": {
    "collapsed": false,
    "pycharm": {
     "name": "#%%\n",
     "is_executing": false
    }
   }
  },
  {
   "cell_type": "markdown",
   "source": [
    "仔细观察上面gather()方法例子，可以发现，第一个参数时数据源，还有两个参数中，axis指的是将要的维度，indices指的是需要选取的序号。"
   ],
   "metadata": {
    "collapsed": false
   }
  },
  {
   "cell_type": "markdown",
   "source": [
    "**（2）gather_nd()**"
   ],
   "metadata": {
    "collapsed": false
   }
  },
  {
   "cell_type": "markdown",
   "source": [
    "gather()方法一次只能对一个维度进行索引，gather_nd()方法可以同时对多个维度进行索引。"
   ],
   "metadata": {
    "collapsed": false
   }
  },
  {
   "cell_type": "code",
   "execution_count": 189,
   "outputs": [
    {
     "data": {
      "text/plain": "<tf.Tensor: id=513, shape=(2,), dtype=int32, numpy=array([ 2, 18])>"
     },
     "metadata": {},
     "output_type": "execute_result",
     "execution_count": 189
    }
   ],
   "source": [
    "tf.gather_nd(b, [[0, 2],[3, 3]]) # 选取第1行第3列的那个数据，和第4行第4列的数据"
   ],
   "metadata": {
    "collapsed": false,
    "pycharm": {
     "name": "#%%\n",
     "is_executing": false
    }
   }
  },
  {
   "cell_type": "markdown",
   "source": [
    "# 2.4 条件索引"
   ],
   "metadata": {
    "collapsed": false
   }
  },
  {
   "cell_type": "markdown",
   "source": [
    "可以结合一些简单的逻辑运算符进行索引取值："
   ],
   "metadata": {
    "collapsed": false
   }
  },
  {
   "cell_type": "code",
   "execution_count": 191,
   "outputs": [
    {
     "data": {
      "text/plain": "<tf.Tensor: id=517, shape=(3, 3), dtype=int32, numpy=\narray([[  5,   9,  -3],\n       [ -7,   3, -10],\n       [  2,   6,   9]])>"
     },
     "metadata": {},
     "output_type": "execute_result",
     "execution_count": 191
    }
   ],
   "source": [
    "a = tf.random.uniform([3,3],minval=-10,maxval=10,dtype=tf.int32)\n",
    "a"
   ],
   "metadata": {
    "collapsed": false,
    "pycharm": {
     "name": "#%%\n",
     "is_executing": false
    }
   }
  },
  {
   "cell_type": "code",
   "execution_count": 192,
   "outputs": [
    {
     "data": {
      "text/plain": "<tf.Tensor: id=519, shape=(3, 3), dtype=bool, numpy=\narray([[False, False,  True],\n       [ True, False,  True],\n       [False, False, False]])>"
     },
     "metadata": {},
     "output_type": "execute_result",
     "execution_count": 192
    }
   ],
   "source": [
    "mask = a < 0\n",
    "mask"
   ],
   "metadata": {
    "collapsed": false,
    "pycharm": {
     "name": "#%%\n",
     "is_executing": false
    }
   }
  },
  {
   "cell_type": "markdown",
   "source": [
    "可以看到，返回的是一个shape与a相同的tensor，在a小于零的位置是True，大于零的位置为False。进一步地，我们可以用boolwan_mask()方法直接取出符合条件的元素："
   ],
   "metadata": {
    "collapsed": false
   }
  },
  {
   "cell_type": "code",
   "execution_count": 193,
   "outputs": [
    {
     "data": {
      "text/plain": "<tf.Tensor: id=546, shape=(3,), dtype=int32, numpy=array([ -3,  -7, -10])>"
     },
     "metadata": {},
     "output_type": "execute_result",
     "execution_count": 193
    }
   ],
   "source": [
    "tf.boolean_mask(a,mask)"
   ],
   "metadata": {
    "collapsed": false,
    "pycharm": {
     "name": "#%%\n",
     "is_executing": false
    }
   }
  },
  {
   "cell_type": "markdown",
   "source": [
    "可以结合where()方法取出符合条件元素的索引："
   ],
   "metadata": {
    "collapsed": false
   }
  },
  {
   "cell_type": "code",
   "execution_count": 194,
   "outputs": [
    {
     "data": {
      "text/plain": "<tf.Tensor: id=547, shape=(3, 2), dtype=int64, numpy=\narray([[0, 2],\n       [1, 0],\n       [1, 2]], dtype=int64)>"
     },
     "metadata": {},
     "output_type": "execute_result",
     "execution_count": 194
    }
   ],
   "source": [
    "m_index = tf.where(mask)\n",
    "m_index"
   ],
   "metadata": {
    "collapsed": false,
    "pycharm": {
     "name": "#%%\n",
     "is_executing": false
    }
   }
  },
  {
   "cell_type": "markdown",
   "source": [
    "再使用之前说过的gather_nd()方法取值："
   ],
   "metadata": {
    "collapsed": false
   }
  },
  {
   "cell_type": "code",
   "execution_count": 195,
   "outputs": [
    {
     "data": {
      "text/plain": "<tf.Tensor: id=548, shape=(3,), dtype=int32, numpy=array([ -3,  -7, -10])>"
     },
     "metadata": {},
     "output_type": "execute_result",
     "execution_count": 195
    }
   ],
   "source": [
    "tf.gather_nd(a,m_index)"
   ],
   "metadata": {
    "collapsed": false,
    "pycharm": {
     "name": "#%%\n",
     "is_executing": false
    }
   }
  },
  {
   "cell_type": "markdown",
   "source": [
    "where()方法还有第二种用法——从两个tensor中取出符合条件的值，这时候where()方法必须接受3个参数："
   ],
   "metadata": {
    "collapsed": false
   }
  },
  {
   "cell_type": "code",
   "execution_count": 196,
   "outputs": [
    {
     "data": {
      "text/plain": "<tf.Tensor: id=553, shape=(3, 3), dtype=bool, numpy=\narray([[False, False,  True],\n       [False,  True, False],\n       [False,  True, False]])>"
     },
     "metadata": {},
     "output_type": "execute_result",
     "execution_count": 196
    }
   ],
   "source": [
    "condition = tf.random.uniform([3,3],minval=0,maxval=2,dtype=tf.int32)\n",
    "condition = tf.cast(condition, tf.bool)\n",
    "condition"
   ],
   "metadata": {
    "collapsed": false,
    "pycharm": {
     "name": "#%%\n",
     "is_executing": false
    }
   }
  },
  {
   "cell_type": "code",
   "execution_count": 197,
   "outputs": [
    {
     "data": {
      "text/plain": "<tf.Tensor: id=559, shape=(3, 3), dtype=int32, numpy=\narray([[1, 2, 3],\n       [4, 5, 6],\n       [7, 8, 9]])>"
     },
     "metadata": {},
     "output_type": "execute_result",
     "execution_count": 197
    }
   ],
   "source": [
    "a = tf.range(1,10)\n",
    "a = tf.reshape(a,[3,3])\n",
    "a"
   ],
   "metadata": {
    "collapsed": false,
    "pycharm": {
     "name": "#%%\n",
     "is_executing": false
    }
   }
  },
  {
   "cell_type": "code",
   "execution_count": 198,
   "outputs": [
    {
     "data": {
      "text/plain": "<tf.Tensor: id=565, shape=(3, 3), dtype=int32, numpy=\narray([[-9, -8, -7],\n       [-6, -5, -4],\n       [-3, -2, -1]])>"
     },
     "metadata": {},
     "output_type": "execute_result",
     "execution_count": 198
    }
   ],
   "source": [
    "b = tf.range(-9,0)\n",
    "b = tf.reshape(b,[3,3])\n",
    "b"
   ],
   "metadata": {
    "collapsed": false,
    "pycharm": {
     "name": "#%%\n",
     "is_executing": false
    }
   }
  },
  {
   "cell_type": "code",
   "execution_count": 199,
   "outputs": [
    {
     "data": {
      "text/plain": "<tf.Tensor: id=566, shape=(3, 3), dtype=int32, numpy=\narray([[-9, -8,  3],\n       [-6,  5, -4],\n       [-3,  8, -1]])>"
     },
     "metadata": {},
     "output_type": "execute_result",
     "execution_count": 199
    }
   ],
   "source": [
    "tf.where(condition, a, b)"
   ],
   "metadata": {
    "collapsed": false,
    "pycharm": {
     "name": "#%%\n",
     "is_executing": false
    }
   }
  },
  {
   "cell_type": "markdown",
   "source": [
    "上面where()方法返回的结果在True的位置取值是a中对应位置元素的值，在False位置是b中对应元素的值。"
   ],
   "metadata": {
    "collapsed": false
   }
  },
  {
   "cell_type": "markdown",
   "source": [
    "# 4 维度变换"
   ],
   "metadata": {
    "collapsed": false
   }
  },
  {
   "cell_type": "markdown",
   "source": [
    "# 4.1 reshape()"
   ],
   "metadata": {
    "collapsed": false
   }
  },
  {
   "cell_type": "markdown",
   "source": [
    "numpy中的ndarray数组有个一reshape()方法，用来改变数组的shape，TensorFlow中的reshape()方法，功能也是一样的，不过TensorFlow中的reshape()没有绑定到tensor中："
   ],
   "metadata": {
    "collapsed": false
   }
  },
  {
   "cell_type": "code",
   "execution_count": 200,
   "outputs": [],
   "source": [
    "a = tf.ones([2,3,4])"
   ],
   "metadata": {
    "collapsed": false,
    "pycharm": {
     "name": "#%%\n",
     "is_executing": false
    }
   }
  },
  {
   "cell_type": "code",
   "execution_count": 201,
   "outputs": [
    {
     "data": {
      "text/plain": "TensorShape([2, 3, 4])"
     },
     "metadata": {},
     "output_type": "execute_result",
     "execution_count": 201
    }
   ],
   "source": [
    "a.shape"
   ],
   "metadata": {
    "collapsed": false,
    "pycharm": {
     "name": "#%%\n",
     "is_executing": false
    }
   }
  },
  {
   "cell_type": "code",
   "execution_count": 202,
   "outputs": [
    {
     "data": {
      "text/plain": "<tf.Tensor: id=569, shape=(2, 3, 4), dtype=float32, numpy=\narray([[[1., 1., 1., 1.],\n        [1., 1., 1., 1.],\n        [1., 1., 1., 1.]],\n\n       [[1., 1., 1., 1.],\n        [1., 1., 1., 1.],\n        [1., 1., 1., 1.]]], dtype=float32)>"
     },
     "metadata": {},
     "output_type": "execute_result",
     "execution_count": 202
    }
   ],
   "source": [
    "a"
   ],
   "metadata": {
    "collapsed": false,
    "pycharm": {
     "name": "#%%\n",
     "is_executing": false
    }
   }
  },
  {
   "cell_type": "code",
   "execution_count": 203,
   "outputs": [],
   "source": [
    "b = tf.reshape(a, [2, 2, 6])"
   ],
   "metadata": {
    "collapsed": false,
    "pycharm": {
     "name": "#%%\n",
     "is_executing": false
    }
   }
  },
  {
   "cell_type": "code",
   "execution_count": 204,
   "outputs": [
    {
     "data": {
      "text/plain": "TensorShape([2, 2, 6])"
     },
     "metadata": {},
     "output_type": "execute_result",
     "execution_count": 204
    }
   ],
   "source": [
    "b.shape"
   ],
   "metadata": {
    "collapsed": false,
    "pycharm": {
     "name": "#%%\n",
     "is_executing": false
    }
   }
  },
  {
   "cell_type": "code",
   "execution_count": 205,
   "outputs": [
    {
     "data": {
      "text/plain": "<tf.Tensor: id=571, shape=(2, 2, 6), dtype=float32, numpy=\narray([[[1., 1., 1., 1., 1., 1.],\n        [1., 1., 1., 1., 1., 1.]],\n\n       [[1., 1., 1., 1., 1., 1.],\n        [1., 1., 1., 1., 1., 1.]]], dtype=float32)>"
     },
     "metadata": {},
     "output_type": "execute_result",
     "execution_count": 205
    }
   ],
   "source": [
    "b"
   ],
   "metadata": {
    "collapsed": false,
    "pycharm": {
     "name": "#%%\n",
     "is_executing": false
    }
   }
  },
  {
   "cell_type": "code",
   "execution_count": 206,
   "outputs": [],
   "source": [
    "c = tf.reshape(a, [3, 2, 4])"
   ],
   "metadata": {
    "collapsed": false,
    "pycharm": {
     "name": "#%%\n",
     "is_executing": false
    }
   }
  },
  {
   "cell_type": "code",
   "execution_count": 207,
   "outputs": [
    {
     "data": {
      "text/plain": "<tf.Tensor: id=573, shape=(3, 2, 4), dtype=float32, numpy=\narray([[[1., 1., 1., 1.],\n        [1., 1., 1., 1.]],\n\n       [[1., 1., 1., 1.],\n        [1., 1., 1., 1.]],\n\n       [[1., 1., 1., 1.],\n        [1., 1., 1., 1.]]], dtype=float32)>"
     },
     "metadata": {},
     "output_type": "execute_result",
     "execution_count": 207
    }
   ],
   "source": [
    "c"
   ],
   "metadata": {
    "collapsed": false,
    "pycharm": {
     "name": "#%%\n",
     "is_executing": false
    }
   }
  },
  {
   "cell_type": "markdown",
   "source": [
    "可以看到，在上面的例子中，通过reshape()方法可以很方便的改变tensor的形状，得到一个新的tensor，需要注意的是在进行维度变换时，数据的重量是不变的，上面的例子无论是[2,3,4]， [2, 2, 6]还是[3, 2, 4]都对应总量24，如果对应不上，就会产生异常。"
   ],
   "metadata": {
    "collapsed": false
   }
  },
  {
   "cell_type": "markdown",
   "source": [
    "# 3.2 转置：transpose()"
   ],
   "metadata": {
    "collapsed": false
   }
  },
  {
   "cell_type": "markdown",
   "source": [
    "transpose()方法提供了一种类似于装置的操作："
   ],
   "metadata": {
    "collapsed": false
   }
  },
  {
   "cell_type": "code",
   "execution_count": 208,
   "outputs": [],
   "source": [
    "a = tf.constant([[1,2,3],[4,5,6]])"
   ],
   "metadata": {
    "collapsed": false,
    "pycharm": {
     "name": "#%%\n",
     "is_executing": false
    }
   }
  },
  {
   "cell_type": "code",
   "execution_count": 209,
   "outputs": [
    {
     "data": {
      "text/plain": "TensorShape([2, 3])"
     },
     "metadata": {},
     "output_type": "execute_result",
     "execution_count": 209
    }
   ],
   "source": [
    "a.shape"
   ],
   "metadata": {
    "collapsed": false,
    "pycharm": {
     "name": "#%%\n",
     "is_executing": false
    }
   }
  },
  {
   "cell_type": "code",
   "execution_count": 210,
   "outputs": [],
   "source": [
    "b = tf.transpose(a)"
   ],
   "metadata": {
    "collapsed": false,
    "pycharm": {
     "name": "#%%\n",
     "is_executing": false
    }
   }
  },
  {
   "cell_type": "code",
   "execution_count": 211,
   "outputs": [
    {
     "data": {
      "text/plain": "TensorShape([3, 2])"
     },
     "metadata": {},
     "output_type": "execute_result",
     "execution_count": 211
    }
   ],
   "source": [
    "b.shape"
   ],
   "metadata": {
    "collapsed": false,
    "pycharm": {
     "name": "#%%\n",
     "is_executing": false
    }
   }
  },
  {
   "cell_type": "code",
   "execution_count": 212,
   "outputs": [
    {
     "data": {
      "text/plain": "<tf.Tensor: id=576, shape=(3, 2), dtype=int32, numpy=\narray([[1, 4],\n       [2, 5],\n       [3, 6]])>"
     },
     "metadata": {},
     "output_type": "execute_result",
     "execution_count": 212
    }
   ],
   "source": [
    "b"
   ],
   "metadata": {
    "collapsed": false,
    "pycharm": {
     "name": "#%%\n",
     "is_executing": false
    }
   }
  },
  {
   "cell_type": "markdown",
   "source": [
    "在默认情况下，transpose()方法会将所有维度按逆序方式完全转置，当然也可以通过perm参数执行需要转置的维度："
   ],
   "metadata": {
    "collapsed": false
   }
  },
  {
   "cell_type": "code",
   "execution_count": 213,
   "outputs": [],
   "source": [
    "a=tf.constant([[[1,2,3],[4,5,6]],[[7,8,9],[10,11,12]]])"
   ],
   "metadata": {
    "collapsed": false,
    "pycharm": {
     "name": "#%%\n",
     "is_executing": false
    }
   }
  },
  {
   "cell_type": "code",
   "execution_count": 214,
   "outputs": [
    {
     "data": {
      "text/plain": "<tf.Tensor: id=577, shape=(2, 2, 3), dtype=int32, numpy=\narray([[[ 1,  2,  3],\n        [ 4,  5,  6]],\n\n       [[ 7,  8,  9],\n        [10, 11, 12]]])>"
     },
     "metadata": {},
     "output_type": "execute_result",
     "execution_count": 214
    }
   ],
   "source": [
    "a"
   ],
   "metadata": {
    "collapsed": false,
    "pycharm": {
     "name": "#%%\n",
     "is_executing": false
    }
   }
  },
  {
   "cell_type": "code",
   "execution_count": 215,
   "outputs": [],
   "source": [
    "b = tf.transpose(a) # 不指定perm参数时，相当于tf.transpose(a, perm=[2, 1, 0])"
   ],
   "metadata": {
    "collapsed": false,
    "pycharm": {
     "name": "#%%\n",
     "is_executing": false
    }
   }
  },
  {
   "cell_type": "code",
   "execution_count": 216,
   "outputs": [
    {
     "data": {
      "text/plain": "<tf.Tensor: id=579, shape=(3, 2, 2), dtype=int32, numpy=\narray([[[ 1,  7],\n        [ 4, 10]],\n\n       [[ 2,  8],\n        [ 5, 11]],\n\n       [[ 3,  9],\n        [ 6, 12]]])>"
     },
     "metadata": {},
     "output_type": "execute_result",
     "execution_count": 216
    }
   ],
   "source": [
    "b"
   ],
   "metadata": {
    "collapsed": false,
    "pycharm": {
     "name": "#%%\n",
     "is_executing": false
    }
   }
  },
  {
   "cell_type": "code",
   "execution_count": 217,
   "outputs": [],
   "source": [
    "c = tf.transpose(a, perm=[2, 1, 0])"
   ],
   "metadata": {
    "collapsed": false,
    "pycharm": {
     "name": "#%%\n",
     "is_executing": false
    }
   }
  },
  {
   "cell_type": "code",
   "execution_count": 218,
   "outputs": [
    {
     "data": {
      "text/plain": "<tf.Tensor: id=581, shape=(3, 2, 2), dtype=int32, numpy=\narray([[[ 1,  7],\n        [ 4, 10]],\n\n       [[ 2,  8],\n        [ 5, 11]],\n\n       [[ 3,  9],\n        [ 6, 12]]])>"
     },
     "metadata": {},
     "output_type": "execute_result",
     "execution_count": 218
    }
   ],
   "source": [
    "c"
   ],
   "metadata": {
    "collapsed": false,
    "pycharm": {
     "name": "#%%\n",
     "is_executing": false
    }
   }
  },
  {
   "cell_type": "code",
   "execution_count": 219,
   "outputs": [],
   "source": [
    "d = tf.transpose(a, perm=[0, 2, 1]) # 第一个维度不做变换，对第二、第三维度进行转置"
   ],
   "metadata": {
    "collapsed": false,
    "pycharm": {
     "name": "#%%\n",
     "is_executing": false
    }
   }
  },
  {
   "cell_type": "code",
   "execution_count": 220,
   "outputs": [
    {
     "data": {
      "text/plain": "<tf.Tensor: id=583, shape=(2, 3, 2), dtype=int32, numpy=\narray([[[ 1,  4],\n        [ 2,  5],\n        [ 3,  6]],\n\n       [[ 7, 10],\n        [ 8, 11],\n        [ 9, 12]]])>"
     },
     "metadata": {},
     "output_type": "execute_result",
     "execution_count": 220
    }
   ],
   "source": [
    "d"
   ],
   "metadata": {
    "collapsed": false,
    "pycharm": {
     "name": "#%%\n",
     "is_executing": false
    }
   }
  },
  {
   "cell_type": "markdown",
   "source": [
    "# 3.3 添加维度：expand_dims()"
   ],
   "metadata": {
    "collapsed": false
   }
  },
  {
   "cell_type": "code",
   "execution_count": 221,
   "outputs": [],
   "source": [
    "a=tf.constant([[1,2,3],[4,5,6]])"
   ],
   "metadata": {
    "collapsed": false,
    "pycharm": {
     "name": "#%%\n",
     "is_executing": false
    }
   }
  },
  {
   "cell_type": "code",
   "execution_count": 222,
   "outputs": [
    {
     "data": {
      "text/plain": "<tf.Tensor: id=584, shape=(2, 3), dtype=int32, numpy=\narray([[1, 2, 3],\n       [4, 5, 6]])>"
     },
     "metadata": {},
     "output_type": "execute_result",
     "execution_count": 222
    }
   ],
   "source": [
    "a"
   ],
   "metadata": {
    "collapsed": false,
    "pycharm": {
     "name": "#%%\n",
     "is_executing": false
    }
   }
  },
  {
   "cell_type": "code",
   "execution_count": 223,
   "outputs": [
    {
     "data": {
      "text/plain": "<tf.Tensor: id=586, shape=(1, 2, 3), dtype=int32, numpy=\narray([[[1, 2, 3],\n        [4, 5, 6]]])>"
     },
     "metadata": {},
     "output_type": "execute_result",
     "execution_count": 223
    }
   ],
   "source": [
    "tf.expand_dims(a, axis=0)"
   ],
   "metadata": {
    "collapsed": false,
    "pycharm": {
     "name": "#%%\n",
     "is_executing": false
    }
   }
  },
  {
   "cell_type": "code",
   "execution_count": 224,
   "outputs": [
    {
     "data": {
      "text/plain": "<tf.Tensor: id=588, shape=(2, 1, 3), dtype=int32, numpy=\narray([[[1, 2, 3]],\n\n       [[4, 5, 6]]])>"
     },
     "metadata": {},
     "output_type": "execute_result",
     "execution_count": 224
    }
   ],
   "source": [
    "tf.expand_dims(a, axis=1)"
   ],
   "metadata": {
    "collapsed": false,
    "pycharm": {
     "name": "#%%\n",
     "is_executing": false
    }
   }
  },
  {
   "cell_type": "code",
   "execution_count": 225,
   "outputs": [
    {
     "data": {
      "text/plain": "<tf.Tensor: id=590, shape=(2, 3, 1), dtype=int32, numpy=\narray([[[1],\n        [2],\n        [3]],\n\n       [[4],\n        [5],\n        [6]]])>"
     },
     "metadata": {},
     "output_type": "execute_result",
     "execution_count": 225
    }
   ],
   "source": [
    "tf.expand_dims(a, axis=-1)"
   ],
   "metadata": {
    "collapsed": false,
    "pycharm": {
     "name": "#%%\n",
     "is_executing": false
    }
   }
  },
  {
   "cell_type": "code",
   "execution_count": 226,
   "outputs": [
    {
     "data": {
      "text/plain": "<tf.Tensor: id=592, shape=(2, 3, 1), dtype=int32, numpy=\narray([[[1],\n        [2],\n        [3]],\n\n       [[4],\n        [5],\n        [6]]])>"
     },
     "metadata": {},
     "output_type": "execute_result",
     "execution_count": 226
    }
   ],
   "source": [
    "tf.expand_dims(a, axis=2)"
   ],
   "metadata": {
    "collapsed": false,
    "pycharm": {
     "name": "#%%\n",
     "is_executing": false
    }
   }
  },
  {
   "cell_type": "markdown",
   "source": [
    "expand_dims()方法添加维度时，通过axis参数指定添加维度的位置，正数表示从前往后数，负数表示从后往前数。"
   ],
   "metadata": {
    "collapsed": false
   }
  },
  {
   "cell_type": "markdown",
   "source": [
    "# 3.4 压缩维度：squeeze()"
   ],
   "metadata": {
    "collapsed": false
   }
  },
  {
   "cell_type": "markdown",
   "source": [
    "squeeze()方法与expand_dims()方法作用刚好相反，其作用是删除张量中dim为1的维度："
   ],
   "metadata": {
    "collapsed": false
   }
  },
  {
   "cell_type": "code",
   "execution_count": 227,
   "outputs": [],
   "source": [
    "a = tf.ones([1,3,1,2])"
   ],
   "metadata": {
    "collapsed": false,
    "pycharm": {
     "name": "#%%\n",
     "is_executing": false
    }
   }
  },
  {
   "cell_type": "code",
   "execution_count": 228,
   "outputs": [
    {
     "data": {
      "text/plain": "<tf.Tensor: id=595, shape=(1, 3, 1, 2), dtype=float32, numpy=\narray([[[[1., 1.]],\n\n        [[1., 1.]],\n\n        [[1., 1.]]]], dtype=float32)>"
     },
     "metadata": {},
     "output_type": "execute_result",
     "execution_count": 228
    }
   ],
   "source": [
    "a"
   ],
   "metadata": {
    "collapsed": false,
    "pycharm": {
     "name": "#%%\n",
     "is_executing": false
    }
   }
  },
  {
   "cell_type": "code",
   "execution_count": 229,
   "outputs": [
    {
     "data": {
      "text/plain": "<tf.Tensor: id=596, shape=(3, 2), dtype=float32, numpy=\narray([[1., 1.],\n       [1., 1.],\n       [1., 1.]], dtype=float32)>"
     },
     "metadata": {},
     "output_type": "execute_result",
     "execution_count": 229
    }
   ],
   "source": [
    "tf.squeeze(a)\n"
   ],
   "metadata": {
    "collapsed": false,
    "pycharm": {
     "name": "#%%\n",
     "is_executing": false
    }
   }
  }
 ],
 "metadata": {
  "kernelspec": {
   "display_name": "Python 3",
   "language": "python",
   "name": "python3"
  },
  "language_info": {
   "codemirror_mode": {
    "name": "ipython",
    "version": 2
   },
   "file_extension": ".py",
   "mimetype": "text/x-python",
   "name": "python",
   "nbconvert_exporter": "python",
   "pygments_lexer": "ipython2",
   "version": "2.7.6"
  },
  "pycharm": {
   "stem_cell": {
    "cell_type": "raw",
    "source": [],
    "metadata": {
     "collapsed": false
    }
   }
  }
 },
 "nbformat": 4,
 "nbformat_minor": 0
}