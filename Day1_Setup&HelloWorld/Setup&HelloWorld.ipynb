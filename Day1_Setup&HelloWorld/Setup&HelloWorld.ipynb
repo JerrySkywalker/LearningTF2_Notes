{
 "nbformat": 4,
 "nbformat_minor": 2,
 "metadata": {
  "language_info": {
   "name": "python",
   "codemirror_mode": {
    "name": "ipython",
    "version": 3
   },
   "version": "3.6.10-final"
  },
  "orig_nbformat": 2,
  "file_extension": ".py",
  "mimetype": "text/x-python",
  "name": "python",
  "npconvert_exporter": "python",
  "pygments_lexer": "ipython3",
  "version": 3,
  "kernelspec": {
   "name": "python361064bitenvgpuconda37aa1c40388546da8d8fab64bfb48375",
   "display_name": "Python 3.6.10 64-bit ('env_gpu': conda)"
  }
 },
 "cells": [
  {
   "cell_type": "markdown",
   "execution_count": null,
   "metadata": {},
   "outputs": [],
   "source": [
    "# Day1 基础配置"
   ]
  },
  {
   "cell_type": "markdown",
   "execution_count": null,
   "metadata": {},
   "outputs": [],
   "source": [
    "本节目标：配置Anaconda + tensorflow-gpu + vscode环境\n",
    "\n",
    "参考资料：https://blog.csdn.net/u012319441/article/details/95551632\n",
    "    \n",
    "    PS:如果你只想装cpu版本，不用看CUDA那一节，请直接pip install tensorflow"
   ]
  },
  {
   "cell_type": "markdown",
   "execution_count": null,
   "metadata": {},
   "outputs": [],
   "source": [
    "## CUDA 及 cudnn配置\n",
    "\n",
    "为了使用nvidia的显卡加速功能，我们选择使用gpu版本的tensorflow，并且配置CUDA。CUDA™是一种由NVIDIA推出的通用并行计算架构，该架构使GPU能够解决复杂的计算问题。首先需要查看自己电脑的N卡支持的 CUDA 版本，打开 NVIDIA 控制面板——帮助——系统信息——组件：开启GPU加速功能的必要条件是显卡的CUDA compute capacity 大于3.0，所以请先上官网查询自己的显卡是否位于支持列表内。(https://developer.nvidia.com/cuda-gpus)\n",
    "\n",
    "请各位注意，这里是个大坑，原因在于tensorflow,CUDA,cudnn三者的版本必须匹配，否则可能发生各种奇妙的错误。(很多博客这里都说的不清楚，害得我搞了半天)原则上，配置应按照以下顺序\n",
    "\n",
    "- 先想好自己要装的tensorflow版本，这里我们选择tensorflow-gpu2.0\n",
    "- 在Tensorflow官网上(官网更新很不及时，所以也可以查询最近一段时间在线博客上大家的配置情况)查询已知可用的的tensorflow,CUDA,cudnn工具链配置关系。\n",
    "- 下载CUDA工具包(https://developer.nvidia.com/cuda-toolkit)，并安装\n",
    "- 依照CUDA版本找到对应的cudnn工具包(https://developer.nvidia.com/rdp/cudnn-download , 需注册)下载后将其解压，直接合并到CUDA的安装目录(例如C:\\Program Files\\NVIDIA GPU Computing Toolkit\\CUDA\\v10.1)\n",
    "- 接下来需要添加一些必要的环境变量：\n",
    "   - CUDA_PATH: C:\\Program Files\\NVIDIA GPU Computing Toolkit\\CUDA\\v10.1\n",
    "   - CUDA_PATH_V10_1: C:\\Program Files\\NVIDIA GPU Computing Toolkit\\CUDA\\v10.1\n",
    "   - CUDA_BIN_PATH: %CUDA_PATH%\\bin \n",
    "   - CUDA_LIB_PATH: %CUDA_PATH%\\lib\\x64 \n",
    "   - CUDA_SDK_PATH: C:\\ProgramData\\NVIDIA Corporation\\CUDA Samples\\v10.1\n",
    "   - CUDA_SDK_BIN_PATH: %CUDA_SDK_PATH%\\bin\\win64 \n",
    "   - CUDA_SDK_LIB_PATH: %CUDA_SDK_PATH%\\common\\lib\\x64\n",
    "- 系统变量 的 Path —— 新建，添加四条信息\n",
    "   - %CUDA_BIN_PATH%\n",
    "   - %CUDA_LIB_PATH%\n",
    "   - %CUDA_SDK_BIN_PATH%\n",
    "   - %CUDA_SDK_LIB_PATH%\n",
    "\n",
    "至此，CUDA的安装工作就完成了。为了验证是否配置成功，在demo_suite文件夹下(C:\\Program Files\\NVIDIA GPU Computing Toolkit\\CUDA\\v10.1\\extras\\demo_suite) ，分别执行 deviceQuery.exe 和 bandwidthTest.exe.若上述都返回 Result = PASS，则表示 CUDA 配置成功\n",
    "\n",
    "\n",
    "\n",
    "\n",
    "\n"
   ]
  },
  {
   "cell_type": "markdown",
   "execution_count": null,
   "metadata": {},
   "outputs": [],
   "source": [
    "## Anaconda的安装及配置\n",
    "\n",
    "Anaconda 提供了包含 Python在内的180多个科学包及其依赖项。原先我并不太明白为什么要进行这一步，后来才明白，通过Anaconda可以方便的配置多种python及包的环境，这里用来适应不同的tensorflow版本(粗浅的认识哈)。\n",
    "\n",
    "请官网下载，安装最新版。\n",
    "\n",
    "之后进行环境配置。以下给出常用命令。这里我们只需使用第一步创建环境和第二步激活环境。\n",
    "\n",
    "- conda create -n 环境名称 包的名称\n",
    "\n",
    "    如： conda create -n env_gpu python=3.6 #创建了一个名为env_gpu的环境，并在这个环境中安装了python3.6\n",
    "\n",
    "- conda activate 环境名称\n",
    "\n",
    "    如： conda activate env_gpu #激活刚才创建的rtmdnet环境，\n",
    "\n",
    "- conda install 包名称\n",
    "\n",
    "    如： conda install matplotlib # 安装matplotlib模块\n",
    "\n",
    "    进入环境后，可以直接使用conda install 进行相关模块的安装（只会安装在当前环境中，不会对其他环境产生影响）\n",
    "\n",
    "- conda env list #运行这行命令即可列出当前anaconda安装了哪些环境\n",
    "    \n",
    "- conda env remove -n 环境名称\n",
    "    如： conda env remove rtmdnet # 删除了名为rtmdnet的环境\n"
   ]
  },
  {
   "cell_type": "markdown",
   "execution_count": null,
   "metadata": {},
   "outputs": [],
   "source": [
    "## tensorflow-gpu 安装\n",
    "\n",
    "这里有三个做法。\n",
    "\n",
    "一是通过命令行直接安装对应的tensorflow-gpu版本，命令为 pip install tensorflow-gpu == 2.0.0\n",
    "\n",
    "二是在Anaconda Navigator 中安装。或者 conda install tensorflow-gpu == 2.0.0\n",
    "\n",
    "三是推荐的方式:使用现成的whl配置文件一键安装。这里推荐一位大神的whl配置文件(https://github.com/fo40225/tensorflow-windows-wheel).找到自己需要的版本，下载下来。安装方法有两种：\n",
    "- 在Anaconda安装文件夹下 pip install $你的下载路径$/tensorflow_gpu-1.14.0-cp37-cp37m-win_amd64.whl\n",
    "- 更傻瓜的做法：在visual studio中安装python支持，然后在 VS 的 Python Environments 中点击 Open in PowerShell， 输入命令：pip install $你的下载路径$/tensorflow_gpu-1.14.0-cp37-cp37m-win_amd64.whl"
   ]
  },
  {
   "cell_type": "markdown",
   "execution_count": null,
   "metadata": {},
   "outputs": [],
   "source": [
    "## VSC 配置\n",
    "\n",
    "这里，安装几个插件\n",
    "- python支持\n",
    "- Anaconda\n",
    "\n",
    "然后，在下方状态栏中即可选择Anaconda环境。"
   ]
  },
  {
   "cell_type": "markdown",
   "execution_count": null,
   "metadata": {},
   "outputs": [],
   "source": [
    "## 最后测试\n",
    "如果你完成了以上步骤，就可以进行测试了。以下测试分为两个步骤\n",
    "\n",
    "1. 简单测试是否成功安装tensorflow-gpu\n",
    "2. 运用tensorflow-gpu完成MINST数据据训练"
   ]
  },
  {
   "cell_type": "markdown",
   "execution_count": null,
   "metadata": {},
   "outputs": [],
   "source": [
    "### 简单测试是否成功安装tensorflow-gpu\n",
    "\n",
    "如果以下代码输出诸如以下的结果，说明一切正常\n",
    "\n",
    "Default GPU Device: /device:GPU:0"
   ]
  },
  {
   "cell_type": "code",
   "execution_count": 3,
   "metadata": {},
   "outputs": [
    {
     "name": "stdout",
     "output_type": "stream",
     "text": "Default GPU Device: /device:GPU:0\n"
    }
   ],
   "source": [
    "import tensorflow as tf\n",
    "if tf.test.gpu_device_name():\n",
    "    print('Default GPU Device: {}'.format(tf.test.gpu_device_name()))\n",
    "else:\n",
    "    print(\"Please install GPU version of TF\")"
   ]
  },
  {
   "cell_type": "markdown",
   "execution_count": null,
   "metadata": {},
   "outputs": [],
   "source": [
    "### 运用tensorflow-gpu完成MINST数据据训练"
   ]
  },
  {
   "cell_type": "code",
   "execution_count": 2,
   "metadata": {},
   "outputs": [
    {
     "name": "stdout",
     "output_type": "stream",
     "text": "Train on 60000 samples\nEpoch 1/5\n60000/60000 [==============================] - 7s 112us/sample - loss: 0.2975 - accuracy: 0.9140\nEpoch 2/5\n60000/60000 [==============================] - 4s 72us/sample - loss: 0.1421 - accuracy: 0.9579\nEpoch 3/5\n60000/60000 [==============================] - 4s 71us/sample - loss: 0.1060 - accuracy: 0.9680\nEpoch 4/5\n60000/60000 [==============================] - 4s 72us/sample - loss: 0.0887 - accuracy: 0.9725\nEpoch 5/5\n60000/60000 [==============================] - 4s 71us/sample - loss: 0.0746 - accuracy: 0.9766\n10000/1 - 1s - loss: 0.0382 - accuracy: 0.9776\n"
    },
    {
     "data": {
      "text/plain": "[0.07412165145962499, 0.9776]"
     },
     "execution_count": 2,
     "metadata": {},
     "output_type": "execute_result"
    }
   ],
   "source": [
    "from __future__ import absolute_import, division, print_function, unicode_literals\n",
    "\n",
    "# å®‰è£… TensorFlow\n",
    "\n",
    "import tensorflow as tf\n",
    "\n",
    "\n",
    "gpus = tf.config.experimental.list_physical_devices(device_type='GPU')\n",
    "tf.config.experimental.set_virtual_device_configuration(\n",
    "    gpus[0],\n",
    "    [tf.config.experimental.VirtualDeviceConfiguration(memory_limit=2048)]\n",
    ")\n",
    "\n",
    "mnist = tf.keras.datasets.mnist\n",
    "\n",
    "(x_train, y_train), (x_test, y_test) = mnist.load_data()\n",
    "x_train, x_test = x_train / 255.0, x_test / 255.0\n",
    "\n",
    "model = tf.keras.models.Sequential([\n",
    "  tf.keras.layers.Flatten(input_shape=(28, 28)),\n",
    "  tf.keras.layers.Dense(128, activation='relu'),\n",
    "  tf.keras.layers.Dropout(0.2),\n",
    "  tf.keras.layers.Dense(10, activation='softmax')\n",
    "])\n",
    "\n",
    "model.compile(optimizer='adam',\n",
    "              loss='sparse_categorical_crossentropy',\n",
    "              metrics=['accuracy'])\n",
    "\n",
    "model.fit(x_train, y_train, epochs=5)\n",
    "\n",
    "model.evaluate(x_test,  y_test, verbose=2)\n"
   ]
  },
  {
   "cell_type": "markdown",
   "execution_count": null,
   "metadata": {},
   "outputs": [],
   "source": [
    "## 疑难解答\n",
    "1. 找不到动态库问题：\n",
    "那就是CUDA-CUDNN-tensorflow三者不匹配的问题。解决方法是找网上成功配置的某种搭配进行配置。\n",
    "\n",
    "2. 有关gpu版本的内存分配问题\n",
    "在运行MINST测试时，我曾遇到过一些关于Blas GEMM launch failed的问题。经查阅资料，发现是tensorflow-gpu在运行时无法成功占满显存导致时导致的问题，解决方法是手动限制gpu活动，即在每一次的代码开头加入如下代码。\n"
   ]
  },
  {
   "cell_type": "code",
   "execution_count": null,
   "metadata": {},
   "outputs": [],
   "source": [
    "import tensorflow as tf\n",
    "\n",
    "\n",
    "gpus = tf.config.experimental.list_physical_devices(device_type='GPU')\n",
    "tf.config.experimental.set_virtual_device_configuration(\n",
    "    gpus[0],\n",
    "    [tf.config.experimental.VirtualDeviceConfiguration(memory_limit=2048)]\n",
    ")\n"
   ]
  }
 ]
}