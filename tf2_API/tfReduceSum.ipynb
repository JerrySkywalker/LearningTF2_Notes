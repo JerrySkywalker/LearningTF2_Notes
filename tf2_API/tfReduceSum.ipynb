{
 "cells": [
  {
   "cell_type": "code",
   "execution_count": 1,
   "metadata": {
    "pycharm": {
     "is_executing": false
    }
   },
   "outputs": [
    {
     "name": "stdout",
     "text": [
      "tf.Tensor([ 9 18 36], shape=(3,), dtype=int32)\ntf.Tensor([ 7 56], shape=(2,), dtype=int32)\ntf.Tensor(63, shape=(), dtype=int32)\ntf.Tensor(\n[[ 7]\n [56]], shape=(2, 1), dtype=int32)\n"
     ],
     "output_type": "stream"
    }
   ],
   "source": [
    "import tensorflow as tf\n",
    "\n",
    "#  tf.reduce_sum(\n",
    "#      input_tensor,\n",
    "#      axis=None,\n",
    "#      keepdims=None,\n",
    "#      name=None,\n",
    "#      reduction_indices=None,\n",
    "#      keep_dims=None\n",
    "#      )\n",
    "#\n",
    "#  Computes the sum of elements across dimensions of a tensor. (deprecated arguments)\n",
    "\n",
    "\n",
    "#  1 2  4\n",
    "#  8 16 32\n",
    "#\n",
    "#  x has a shape of (2, 3) (two rows and three columns):\n",
    "#\n",
    "#  The 0 axis in tensorflow is the rows, 1 axis is the columns.\n",
    "#  By doing tf.reduce_sum(x, 0) the tensor is reduced along the first dimension\n",
    "#  (rows), so the result is [1, 2, 4] + [8, 16, 32] = [9, 18, 32].\n",
    "#\n",
    "#  By doing tf.reduce_sum(x, 1) the tensor is reduced along the second dimension\n",
    "#  (columns), so the result is [1, 9] + [2, 16] + [4, 32] = [7, 56].\n",
    "\n",
    "x = tf.constant([[1, 2, 4], [8, 16, 32]])\n",
    "print(tf.reduce_sum(x, 0))  # [ 9 18 36]\n",
    "print(tf.reduce_sum(x, 1))  # [ 7 56]\n",
    "print(tf.reduce_sum(x, [0, 1]))  # 63\n",
    "print(tf.reduce_sum(x, 1, keepdims=True)) # [[ 7]\n",
    "                                       #  [56]]\n",
    "\n",
    "\n"
   ]
  },
  {
   "cell_type": "code",
   "execution_count": 1,
   "metadata": {
    "pycharm": {
     "is_executing": false
    }
   },
   "outputs": [],
   "source": []
  }
 ],
 "metadata": {
  "language_info": {
   "codemirror_mode": {
    "name": "ipython",
    "version": 2
   },
   "file_extension": ".py",
   "mimetype": "text/x-python",
   "name": "python",
   "nbconvert_exporter": "python",
   "pygments_lexer": "ipython2",
   "version": "3.6.10-final"
  },
  "kernelspec": {
   "name": "python361064bitenvgpucondad97e9682d1cf4c0fab2709094ecbe611",
   "language": "python",
   "display_name": "Python 3.6.10 64-bit ('env_gpu': conda)"
  },
  "pycharm": {
   "stem_cell": {
    "cell_type": "raw",
    "source": [],
    "metadata": {
     "collapsed": false
    }
   }
  }
 },
 "nbformat": 4,
 "nbformat_minor": 0
}