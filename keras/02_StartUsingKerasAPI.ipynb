{
 "cells": [
  {
   "cell_type": "code",
   "execution_count": null,
   "outputs": [],
   "source": [
    "from keras.layers import Input, Dense\n",
    "from keras.models import Model"
   ],
   "metadata": {
    "collapsed": false,
    "pycharm": {
     "name": "#%%\n"
    }
   }
  },
  {
   "cell_type": "markdown",
   "metadata": {
    "collapsed": true,
    "pycharm": {
     "name": "#%% md\n"
    }
   },
   "source": [
    "# 02_开始使用 Keras 函数式 API\n",
    "\n",
    "Keras 函数式 API 是定义复杂模型（如多输出模型、有向无环图，或具有共享层的模型）的方法。\n",
    "\n",
    "相较上一篇笔记，这里着重解释API的详细用法。"
   ]
  },
  {
   "cell_type": "markdown",
   "source": [
    "## 一切皆为张量：一个简单的例子--全连接网络\n",
    "\n",
    "这个例子能够帮助我们对Keras API进行一些简单的理解。对于全连接网络，Sequential 模型可能是实现这种网络的一个更好选择。需要注意：\n",
    "\n",
    "- 网络层的实例是可调用的，它以张量为参数，并且返回一个张量\n",
    "- 输入和输出均为张量，它们都可以用来定义一个模型（Model）\n",
    "- 这样的模型同 Keras 的 Sequential 模型一样，都可以被训练"
   ],
   "metadata": {
    "collapsed": false,
    "pycharm": {
     "name": "#%% md\n"
    }
   }
  },
  {
   "cell_type": "code",
   "execution_count": null,
   "outputs": [],
   "source": [
    "# 这部分返回一个张量\n",
    "inputs = Input(shape=(784,))\n",
    "\n",
    "# 层的实例是可调用的，它以张量为参数，并且返回一个张量\n",
    "x = Dense(64, activation='relu')(inputs)\n",
    "x = Dense(64, activation='relu')(x)\n",
    "predictions = Dense(10, activation='softmax')(x)\n",
    "\n",
    "# 这部分创建了一个包含输入层和三个全连接层的模型\n",
    "model = Model(inputs=inputs, outputs=predictions)\n",
    "model.compile(optimizer='rmsprop',\n",
    "              loss='categorical_crossentropy',\n",
    "              metrics=['accuracy'])\n",
    "model.fit(data, labels)  # 开始训练"
   ],
   "metadata": {
    "collapsed": false,
    "pycharm": {
     "name": "#%%\n"
    }
   }
  },
  {
   "cell_type": "markdown",
   "source": [
    "注意这里的一个写法：x = Dense(64, activation='relu')(inputs)\n",
    "\n",
    "在 Layer 这个类里面，有这样一个函数(https://github.com/keras-team/keras/blob/4cde148de0c37981c50f3a8e4a59fa4e5f653e17/keras/engine/topology.py#L541)：\n",
    "\n",
    "def __call__(self, inputs, **kwargs):\n",
    "\n",
    "通过定义这个函数，我们可以让一个对象可以当函数用。因此我们可以把下面的代码拆成这样：\n",
    "\n",
    "在Python的官方文档中有详细说明(https://docs.python.org/3/reference/datamodel.html#emulating-callable-objects)\n",
    "\n",
    "3.3.6. Emulating callable objects\n",
    "\n",
    "object.__call__(self[, args...])\n",
    "\n",
    "    Called when the instance is “called” as a function; if this method is defined, x(arg1, arg2, ...) is a shorthand for x.__call__(arg1, arg2, ...)."
   ],
   "metadata": {
    "collapsed": false,
    "pycharm": {
     "name": "#%% md\n"
    }
   }
  }
 ],
 "metadata": {
  "kernelspec": {
   "name": "python361064bitenvkerasconda35ea030533824913af46a47c060c536a",
   "language": "python",
   "display_name": "Python 3.6.10 64-bit ('env_keras': conda)"
  },
  "language_info": {
   "codemirror_mode": {
    "name": "ipython",
    "version": 2
   },
   "file_extension": ".py",
   "mimetype": "text/x-python",
   "name": "python",
   "nbconvert_exporter": "python",
   "pygments_lexer": "ipython2",
   "version": "2.7.6"
  },
  "pycharm": {
   "stem_cell": {
    "cell_type": "raw",
    "source": [],
    "metadata": {
     "collapsed": false
    }
   }
  }
 },
 "nbformat": 4,
 "nbformat_minor": 0
}