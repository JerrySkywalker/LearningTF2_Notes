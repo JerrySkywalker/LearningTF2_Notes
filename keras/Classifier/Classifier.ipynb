{
 "nbformat": 4,
 "nbformat_minor": 2,
 "metadata": {
  "language_info": {
   "name": "python",
   "codemirror_mode": {
    "name": "ipython",
    "version": 3
   },
   "version": "3.6.10-final"
  },
  "orig_nbformat": 2,
  "file_extension": ".py",
  "mimetype": "text/x-python",
  "name": "python",
  "npconvert_exporter": "python",
  "pygments_lexer": "ipython3",
  "version": 3,
  "kernelspec": {
   "name": "python361064bitenvcpuconda1028382286aa45c4978af7dd3239edab",
   "display_name": "Python 3.6.10 64-bit ('env_cpu': conda)"
  }
 },
 "cells": [
  {
   "cell_type": "code",
   "execution_count": 57,
   "metadata": {},
   "outputs": [
    {
     "name": "stdout",
     "output_type": "stream",
     "text": "2.2.4\n"
    }
   ],
   "source": [
    "import keras\n",
    "print(keras.__version__)"
   ]
  },
  {
   "cell_type": "code",
   "execution_count": 58,
   "metadata": {},
   "outputs": [],
   "source": [
    "import numpy as np\n",
    "np.random.seed(1337)  # for reproducibility\n",
    "from keras.datasets import mnist\n",
    "from keras.utils import np_utils\n",
    "from keras.models import Sequential\n",
    "from keras.layers import Dense, Activation\n",
    "from keras.optimizers import RMSprop\n",
    "from keras.models import load_model\n"
   ]
  },
  {
   "cell_type": "markdown",
   "execution_count": null,
   "metadata": {},
   "outputs": [],
   "source": [
    "- models.Sequential，用来一层一层一层的去建立神经层；\n",
    "- layers.Dense 意思是这个神经层是全连接层。\n",
    "- layers.Activation 激励函数。\n",
    "- optimizers.RMSprop 优化器采用 RMSprop，加速神经网络训练方法。"
   ]
  },
  {
   "cell_type": "code",
   "execution_count": 59,
   "metadata": {},
   "outputs": [
    {
     "name": "stdout",
     "output_type": "stream",
     "text": "(784,)\n[[0. 0. 0. 0. 0. 1. 0. 0. 0. 0.]\n [1. 0. 0. 0. 0. 0. 0. 0. 0. 0.]\n [0. 0. 0. 0. 1. 0. 0. 0. 0. 0.]]\n"
    },
    {
     "data": {
      "text/plain": "'\\n[[ 0.  0.  0.  0.  0.  1.  0.  0.  0.  0.]\\n [ 1.  0.  0.  0.  0.  0.  0.  0.  0.  0.]\\n [ 0.  0.  0.  0.  1.  0.  0.  0.  0.  0.]]\\n'"
     },
     "execution_count": 59,
     "metadata": {},
     "output_type": "execute_result"
    }
   ],
   "source": [
    "from keras.datasets import mnist\n",
    "from keras import utils as np_utils\n",
    "\n",
    "# download the mnist to the path '~/.keras/datasets/' if it is the first time to be called\n",
    "# X shape (60,000 28x28), y shape (10,000, )\n",
    "(X_train, y_train), (X_test, y_test) = mnist.load_data()\n",
    "\n",
    "# data pre-processing\n",
    "X_train = X_train.reshape(X_train.shape[0], -1) / 255.   # normalize\n",
    "X_test = X_test.reshape(X_test.shape[0], -1) / 255.      # normalize\n",
    "y_train = np_utils.to_categorical(y_train, num_classes=10)\n",
    "y_test = np_utils.to_categorical(y_test, num_classes=10)\n",
    "\n",
    "print(X_train[1].shape)\n",
    "\"\"\"\n",
    "(784,)\n",
    "\"\"\"\n",
    "\n",
    "print(y_train[:3])\n",
    "\"\"\"\n",
    "[[ 0.  0.  0.  0.  0.  1.  0.  0.  0.  0.]\n",
    " [ 1.  0.  0.  0.  0.  0.  0.  0.  0.  0.]\n",
    " [ 0.  0.  0.  0.  1.  0.  0.  0.  0.  0.]]\n",
    "\"\"\"\n"
   ]
  },
  {
   "cell_type": "code",
   "execution_count": 60,
   "metadata": {},
   "outputs": [],
   "source": [
    "# Another way to build your neural net\n",
    "model = Sequential([\n",
    "    Dense(32, input_dim=784),\n",
    "    Activation('relu'),\n",
    "    Dense(10),\n",
    "    Activation('softmax'),\n",
    "])\n"
   ]
  },
  {
   "cell_type": "code",
   "execution_count": 61,
   "metadata": {},
   "outputs": [],
   "source": [
    "# Another way to define your optimizer\n",
    "rmsprop = RMSprop(lr=0.001, rho=0.9, epsilon=1e-08, decay=0.0)\n"
   ]
  },
  {
   "cell_type": "code",
   "execution_count": 62,
   "metadata": {},
   "outputs": [],
   "source": [
    "# We add metrics to get more results you want to see\n",
    "model.compile(optimizer=rmsprop,\n",
    "              loss='categorical_crossentropy',\n",
    "              metrics=['accuracy'])\n"
   ]
  },
  {
   "cell_type": "code",
   "execution_count": 63,
   "metadata": {},
   "outputs": [
    {
     "name": "stdout",
     "output_type": "stream",
     "text": "Training ------------\nEpoch 1/5\n60000/60000 [==============================] - 5s 77us/step - loss: 0.3459 - acc: 0.9043\nEpoch 2/5\n60000/60000 [==============================] - 4s 66us/step - loss: 0.2000 - acc: 0.9423\nEpoch 3/5\n60000/60000 [==============================] - 4s 64us/step - loss: 0.1647 - acc: 0.9522\nEpoch 4/5\n60000/60000 [==============================] - 4s 64us/step - loss: 0.1446 - acc: 0.9586\nEpoch 5/5\n60000/60000 [==============================] - 4s 66us/step - loss: 0.1303 - acc: 0.9626\n"
    },
    {
     "data": {
      "text/plain": "<keras.callbacks.History at 0x1a82ae70518>"
     },
     "execution_count": 63,
     "metadata": {},
     "output_type": "execute_result"
    }
   ],
   "source": [
    "print('Training ------------')\n",
    "# Another way to train the model\n",
    "model.fit(X_train, y_train, epochs=5, batch_size=32)"
   ]
  },
  {
   "cell_type": "code",
   "execution_count": 64,
   "metadata": {},
   "outputs": [
    {
     "name": "stdout",
     "output_type": "stream",
     "text": "\nTesting ------------\n10000/10000 [==============================] - 0s 36us/step\ntest loss:  0.14248259023595602\ntest accuracy:  0.9617\n"
    }
   ],
   "source": [
    "print('\\nTesting ------------')\n",
    "# Evaluate the model with the metrics we defined earlier\n",
    "loss, accuracy = model.evaluate(X_test, y_test)\n",
    "\n",
    "print('test loss: ', loss)\n",
    "print('test accuracy: ', accuracy)"
   ]
  },
  {
   "cell_type": "code",
   "execution_count": 65,
   "metadata": {},
   "outputs": [
    {
     "name": "stdout",
     "output_type": "stream",
     "text": "test before save: [[1.6336678e-08 3.8133047e-10 4.0679852e-06 1.7156552e-04 1.1218182e-11\n  2.1845781e-06 3.3652805e-14 9.9980968e-01 1.8032091e-07 1.2310393e-05]\n [1.8916332e-08 8.3443830e-08 9.9996877e-01 2.1627320e-05 1.5859114e-20\n  9.5777732e-06 9.5562225e-10 5.0231379e-15 1.9747576e-08 9.8034290e-17]]\n"
    },
    {
     "data": {
      "text/plain": "'\\ntest before save:  [[ 1.87243938] [ 2.20500779]]\\n'"
     },
     "execution_count": 65,
     "metadata": {},
     "output_type": "execute_result"
    }
   ],
   "source": [
    "# save\n",
    "print('test before save: ', model.predict(X_test[0:2]))\n",
    "model.save('my_model.h5')   # HDF5 file, you have to pip3 install h5py if don't have it\n",
    "del model  # deletes the existing model\n",
    "\n",
    "\"\"\"\n",
    "test before save:  [[ 1.87243938] [ 2.20500779]]\n",
    "\"\"\"\n"
   ]
  },
  {
   "cell_type": "code",
   "execution_count": 68,
   "metadata": {},
   "outputs": [
    {
     "name": "stdout",
     "output_type": "stream",
     "text": "test after load:  [[1.6336678e-08 3.8133047e-10 4.0679852e-06 1.7156552e-04 1.1218182e-11\n  2.1845781e-06 3.3652805e-14 9.9980968e-01 1.8032091e-07 1.2310393e-05]\n [1.8916332e-08 8.3443830e-08 9.9996877e-01 2.1627320e-05 1.5859114e-20\n  9.5777732e-06 9.5562225e-10 5.0231379e-15 1.9747576e-08 9.8034290e-17]]\n"
    }
   ],
   "source": [
    "# load\n",
    "model = load_model('my_model.h5')\n",
    "print('test after load: ', model.predict(X_test[0:2]))"
   ]
  },
  {
   "cell_type": "code",
   "execution_count": null,
   "metadata": {},
   "outputs": [],
   "source": []
  }
 ]
}