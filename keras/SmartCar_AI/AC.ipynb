{
 "nbformat": 4,
 "nbformat_minor": 2,
 "metadata": {
  "language_info": {
   "name": "python",
   "codemirror_mode": {
    "name": "ipython",
    "version": 3
   },
   "version": "3.6.10-final"
  },
  "orig_nbformat": 2,
  "file_extension": ".py",
  "mimetype": "text/x-python",
  "name": "python",
  "npconvert_exporter": "python",
  "pygments_lexer": "ipython3",
  "version": 3,
  "kernelspec": {
   "name": "python361064bitenvkerasconda35ea030533824913af46a47c060c536a",
   "display_name": "Python 3.6.10 64-bit ('env_keras': conda)"
  }
 },
 "cells": [
  {
   "cell_type": "code",
   "execution_count": 8,
   "metadata": {},
   "outputs": [
    {
     "name": "stdout",
     "output_type": "stream",
     "text": "2.2.4\n"
    }
   ],
   "source": [
    "import numpy as np\n",
    "import pandas as pd\n",
    "\n",
    "import keras\n",
    "from keras.datasets import mnist\n",
    "from keras.utils import np_utils\n",
    "from keras.models import Sequential\n",
    "from keras.layers import Dense, Activation, Flatten, Dropout\n",
    "from keras.optimizers import RMSprop\n",
    "from keras.models import load_model\n",
    "\n",
    "print(keras.__version__)"
   ]
  },
  {
   "cell_type": "code",
   "execution_count": 9,
   "metadata": {},
   "outputs": [],
   "source": [
    "data_train = np.loadtxt(\"data_train.txt\")\n",
    "data_test = np.loadtxt(\"data_test.txt\")\n",
    "\n",
    "data_train = data_train.reshape((-1,8))\n",
    "data_test = data_test.reshape((-1,8))\n",
    "\n",
    "X_train = data_train[:,0:7]\n",
    "Y_train = data_train[:,7]\n",
    "X_test = data_test[:,0:7]\n",
    "Y_test = data_test[:,7]"
   ]
  },
  {
   "cell_type": "code",
   "execution_count": 10,
   "metadata": {},
   "outputs": [],
   "source": [
    "model = Sequential([\n",
    "    Dense(140,input_shape = (7,)),\n",
    "    Activation('tanh'),\n",
    "    Dropout(0.5),\n",
    "    Dense(100, input_dim=140),\n",
    "    Activation('tanh'),\n",
    "    Dropout(0.5),\n",
    "    Dense(40, input_dim=100),\n",
    "    Dense(40, input_dim=100),\n",
    "    Activation('relu'),\n",
    "    Dense(1),\n",
    "    Activation('softmax'),\n",
    "])"
   ]
  },
  {
   "cell_type": "code",
   "execution_count": 11,
   "metadata": {},
   "outputs": [],
   "source": [
    "# We add metrics to get more results you want to see\n",
    "model.compile(optimizer='sgd',\n",
    "              loss='mean_absolute_error',\n",
    "              metrics=['accuracy'])"
   ]
  },
  {
   "cell_type": "code",
   "execution_count": 12,
   "metadata": {},
   "outputs": [
    {
     "name": "stdout",
     "output_type": "stream",
     "text": "Training ------------\nEpoch 1/50\n16/16 [==============================] - 0s 10ms/step - loss: 3.9750 - acc: 0.0000e+00\nEpoch 2/50\n16/16 [==============================] - 0s 125us/step - loss: 3.9750 - acc: 0.0000e+00\nEpoch 3/50\n16/16 [==============================] - 0s 125us/step - loss: 3.9750 - acc: 0.0000e+00\nEpoch 4/50\n16/16 [==============================] - 0s 62us/step - loss: 3.9750 - acc: 0.0000e+00\nEpoch 5/50\n16/16 [==============================] - 0s 62us/step - loss: 3.9750 - acc: 0.0000e+00\nEpoch 6/50\n16/16 [==============================] - 0s 125us/step - loss: 3.9750 - acc: 0.0000e+00\nEpoch 7/50\n16/16 [==============================] - 0s 125us/step - loss: 3.9750 - acc: 0.0000e+00\nEpoch 8/50\n16/16 [==============================] - 0s 124us/step - loss: 3.9750 - acc: 0.0000e+00\nEpoch 9/50\n16/16 [==============================] - 0s 62us/step - loss: 3.9750 - acc: 0.0000e+00\nEpoch 10/50\n16/16 [==============================] - 0s 125us/step - loss: 3.9750 - acc: 0.0000e+00\nEpoch 11/50\n16/16 [==============================] - 0s 62us/step - loss: 3.9750 - acc: 0.0000e+00\nEpoch 12/50\n16/16 [==============================] - 0s 125us/step - loss: 3.9750 - acc: 0.0000e+00\nEpoch 13/50\n16/16 [==============================] - 0s 62us/step - loss: 3.9750 - acc: 0.0000e+00\nEpoch 14/50\n16/16 [==============================] - 0s 63us/step - loss: 3.9750 - acc: 0.0000e+00\nEpoch 15/50\n16/16 [==============================] - 0s 63us/step - loss: 3.9750 - acc: 0.0000e+00\nEpoch 16/50\n16/16 [==============================] - 0s 125us/step - loss: 3.9750 - acc: 0.0000e+00\nEpoch 17/50\n16/16 [==============================] - 0s 62us/step - loss: 3.9750 - acc: 0.0000e+00\nEpoch 18/50\n16/16 [==============================] - 0s 125us/step - loss: 3.9750 - acc: 0.0000e+00\nEpoch 19/50\n16/16 [==============================] - 0s 62us/step - loss: 3.9750 - acc: 0.0000e+00\nEpoch 20/50\n16/16 [==============================] - 0s 125us/step - loss: 3.9750 - acc: 0.0000e+00\nEpoch 21/50\n16/16 [==============================] - 0s 62us/step - loss: 3.9750 - acc: 0.0000e+00\nEpoch 22/50\n16/16 [==============================] - 0s 62us/step - loss: 3.9750 - acc: 0.0000e+00\nEpoch 23/50\n16/16 [==============================] - 0s 62us/step - loss: 3.9750 - acc: 0.0000e+00\nEpoch 24/50\n16/16 [==============================] - 0s 62us/step - loss: 3.9750 - acc: 0.0000e+00\nEpoch 25/50\n16/16 [==============================] - 0s 62us/step - loss: 3.9750 - acc: 0.0000e+00\nEpoch 26/50\n16/16 [==============================] - 0s 62us/step - loss: 3.9750 - acc: 0.0000e+00\nEpoch 27/50\n16/16 [==============================] - 0s 125us/step - loss: 3.9750 - acc: 0.0000e+00\nEpoch 28/50\n16/16 [==============================] - 0s 125us/step - loss: 3.9750 - acc: 0.0000e+00\nEpoch 29/50\n16/16 [==============================] - 0s 62us/step - loss: 3.9750 - acc: 0.0000e+00\nEpoch 30/50\n16/16 [==============================] - 0s 125us/step - loss: 3.9750 - acc: 0.0000e+00\nEpoch 31/50\n16/16 [==============================] - 0s 62us/step - loss: 3.9750 - acc: 0.0000e+00\nEpoch 32/50\n16/16 [==============================] - 0s 62us/step - loss: 3.9750 - acc: 0.0000e+00\nEpoch 33/50\n16/16 [==============================] - 0s 64us/step - loss: 3.9750 - acc: 0.0000e+00\nEpoch 34/50\n16/16 [==============================] - 0s 62us/step - loss: 3.9750 - acc: 0.0000e+00\nEpoch 35/50\n16/16 [==============================] - 0s 62us/step - loss: 3.9750 - acc: 0.0000e+00\nEpoch 36/50\n16/16 [==============================] - 0s 62us/step - loss: 3.9750 - acc: 0.0000e+00\nEpoch 37/50\n16/16 [==============================] - 0s 62us/step - loss: 3.9750 - acc: 0.0000e+00\nEpoch 38/50\n16/16 [==============================] - 0s 62us/step - loss: 3.9750 - acc: 0.0000e+00\nEpoch 39/50\n16/16 [==============================] - 0s 125us/step - loss: 3.9750 - acc: 0.0000e+00\nEpoch 40/50\n16/16 [==============================] - 0s 127us/step - loss: 3.9750 - acc: 0.0000e+00\nEpoch 41/50\n16/16 [==============================] - 0s 60us/step - loss: 3.9750 - acc: 0.0000e+00\nEpoch 42/50\n16/16 [==============================] - 0s 62us/step - loss: 3.9750 - acc: 0.0000e+00\nEpoch 43/50\n16/16 [==============================] - 0s 123us/step - loss: 3.9750 - acc: 0.0000e+00\nEpoch 44/50\n16/16 [==============================] - 0s 64us/step - loss: 3.9750 - acc: 0.0000e+00\nEpoch 45/50\n16/16 [==============================] - 0s 125us/step - loss: 3.9750 - acc: 0.0000e+00\nEpoch 46/50\n16/16 [==============================] - 0s 61us/step - loss: 3.9750 - acc: 0.0000e+00\nEpoch 47/50\n16/16 [==============================] - 0s 125us/step - loss: 3.9750 - acc: 0.0000e+00\nEpoch 48/50\n16/16 [==============================] - 0s 60us/step - loss: 3.9750 - acc: 0.0000e+00\nEpoch 49/50\n16/16 [==============================] - 0s 62us/step - loss: 3.9750 - acc: 0.0000e+00\nEpoch 50/50\n16/16 [==============================] - 0s 62us/step - loss: 3.9750 - acc: 0.0000e+00\n"
    },
    {
     "data": {
      "text/plain": "<keras.callbacks.History at 0x19950ae7fd0>"
     },
     "execution_count": 12,
     "metadata": {},
     "output_type": "execute_result"
    }
   ],
   "source": [
    "print('Training ------------')\n",
    "# Another way to train the model\n",
    "model.fit(X_train, Y_train, epochs=50, batch_size=32)"
   ]
  },
  {
   "cell_type": "code",
   "execution_count": 13,
   "metadata": {},
   "outputs": [
    {
     "name": "stdout",
     "output_type": "stream",
     "text": "_________________________________________________________________\nLayer (type)                 Output Shape              Param #   \n=================================================================\ndense_6 (Dense)              (None, 140)               1120      \n_________________________________________________________________\nactivation_5 (Activation)    (None, 140)               0         \n_________________________________________________________________\ndropout_3 (Dropout)          (None, 140)               0         \n_________________________________________________________________\ndense_7 (Dense)              (None, 100)               14100     \n_________________________________________________________________\nactivation_6 (Activation)    (None, 100)               0         \n_________________________________________________________________\ndropout_4 (Dropout)          (None, 100)               0         \n_________________________________________________________________\ndense_8 (Dense)              (None, 40)                4040      \n_________________________________________________________________\ndense_9 (Dense)              (None, 40)                1640      \n_________________________________________________________________\nactivation_7 (Activation)    (None, 40)                0         \n_________________________________________________________________\ndense_10 (Dense)             (None, 1)                 41        \n_________________________________________________________________\nactivation_8 (Activation)    (None, 1)                 0         \n=================================================================\nTotal params: 20,941\nTrainable params: 20,941\nNon-trainable params: 0\n_________________________________________________________________\n"
    }
   ],
   "source": [
    "model.summary()"
   ]
  },
  {
   "cell_type": "code",
   "execution_count": 14,
   "metadata": {},
   "outputs": [],
   "source": [
    "model.save('AC_1_0.h5')   # HDF5 file, you have to pip3 install h5py if don't have it"
   ]
  },
  {
   "cell_type": "code",
   "execution_count": null,
   "metadata": {},
   "outputs": [],
   "source": []
  }
 ]
}