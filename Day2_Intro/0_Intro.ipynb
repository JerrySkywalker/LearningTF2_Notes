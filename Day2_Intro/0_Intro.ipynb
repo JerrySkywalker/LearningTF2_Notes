{
 "nbformat": 4,
 "nbformat_minor": 2,
 "metadata": {
  "language_info": {
   "name": "python",
   "codemirror_mode": {
    "name": "ipython",
    "version": 3
   }
  },
  "orig_nbformat": 2,
  "file_extension": ".py",
  "mimetype": "text/x-python",
  "name": "python",
  "npconvert_exporter": "python",
  "pygments_lexer": "ipython3",
  "version": 3,
  "kernelspec": {
   "name": "python3",
   "language": "python",
   "display_name": "Python 3"
  },
  "pycharm": {
   "stem_cell": {
    "cell_type": "raw",
    "source": [],
    "metadata": {
     "collapsed": false
    }
   }
  }
 },
 "cells": [
  {
   "cell_type": "markdown",
   "source": [
    "# 引言： 有关深度学习\n",
    "本节目标：了解一些概念和历史"
   ],
   "metadata": {
    "collapsed": false,
    "pycharm": {
     "name": "#%% md\n"
    }
   }
  },
  {
   "cell_type": "markdown",
   "source": [
    "## 概念\n",
    "### 包含关系\n",
    "AI - 机器学习 - 表示学习 -深度学习\n",
    "\n",
    "### 流程图\n",
    "- 基于规则的系统\n",
    "    - 输入\n",
    "    - 手工设计的程序\n",
    "    - 输出\n",
    "- 经典机器学习\n",
    "    - 输入\n",
    "    - 手工设计的程序\n",
    "    - 从特征映射\n",
    "    - 输出\n",
    "- 表示学习\n",
    "    - 输入\n",
    "    - 特征\n",
    "    - 从特征映射\n",
    "    - 输出\n",
    "- 深度学习\n",
    "    - 输入\n",
    "    - 简单特征\n",
    "    - 更抽象特征的额外层\n",
    "    - 从特征映射\n",
    "    - 输出\n",
    "\n",
    "### 一些实例\n",
    "- AI： 知识库\n",
    "- 机器学习： 逻辑回归，朴素贝叶斯\n",
    "- 表示学习： 浅度自编码器\n",
    "- 深度学习： MLPs"
   ],
   "metadata": {
    "collapsed": false
   }
  },
  {
   "cell_type": "markdown",
   "source": [
    "## 深度学习的历史趋势\n",
    "### 三次浪潮\n",
    "- 控制论\n",
    "- 联结主义\n",
    "- 深度学习\n",
    "\n",
    "### 控制论(Cybernetics)\n",
    "- 简单线性模型\n",
    "- 自适应线性模型\n",
    "- 随机梯度下降算法(SGD)\n",
    "- 神经科学的指导\n",
    "- 线性模型的局限性(无法学习XOR)\n",
    "\n",
    "### 联结主义(Connectionism)/并行分布处理(Parallel Distributed Processing)\n",
    "- 符号推理的困境\n",
    "- 类比神经网络\n",
    "- 分布式表示： 系统的每一个输入都应该由多个特征表示，并且每一个特征都应该参与到多个可能输入的表示\n",
    "- 反向传播\n",
    "\n",
    "### 深度学习\n",
    "- 贪婪逐层预训练"
   ],
   "metadata": {
    "collapsed": false
   }
  }
 ]
}